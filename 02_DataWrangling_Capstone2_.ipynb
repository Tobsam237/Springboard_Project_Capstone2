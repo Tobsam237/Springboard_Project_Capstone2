{
  "nbformat": 4,
  "nbformat_minor": 0,
  "metadata": {
    "accelerator": "TPU",
    "colab": {
      "name": "Springboard_Project_Capstone2 .ipynb",
      "provenance": [],
      "authorship_tag": "ABX9TyPC6DeBGMYscqqjWCg+QYpe",
      "include_colab_link": true
    },
    "kernelspec": {
      "display_name": "Python 3",
      "name": "python3"
    }
  },
  "cells": [
    {
      "cell_type": "markdown",
      "metadata": {
        "id": "view-in-github",
        "colab_type": "text"
      },
      "source": [
        "<a href=\"https://colab.research.google.com/github/Tobsam237/Springboard_Project_Capstone2/blob/main/Springboard_Project_Capstone2_.ipynb\" target=\"_parent\"><img src=\"https://colab.research.google.com/assets/colab-badge.svg\" alt=\"Open In Colab\"/></a>"
      ]
    },
    {
      "cell_type": "code",
      "metadata": {
        "colab": {
          "base_uri": "https://localhost:8080/"
        },
        "id": "pXXzpRdVA2xu",
        "outputId": "b7065739-503a-42af-ef48-0955ace02e23"
      },
      "source": [
        "!pip install sodapy"
      ],
      "execution_count": 2,
      "outputs": [
        {
          "output_type": "stream",
          "text": [
            "Collecting sodapy\n",
            "  Downloading https://files.pythonhosted.org/packages/9e/74/95fb7d45bbe7f1de43caac45d7dd4807ef1e15881564a00eef489a3bb5c6/sodapy-2.1.0-py2.py3-none-any.whl\n",
            "Requirement already satisfied: requests>=2.20.0 in /usr/local/lib/python3.6/dist-packages (from sodapy) (2.23.0)\n",
            "Requirement already satisfied: urllib3!=1.25.0,!=1.25.1,<1.26,>=1.21.1 in /usr/local/lib/python3.6/dist-packages (from requests>=2.20.0->sodapy) (1.24.3)\n",
            "Requirement already satisfied: chardet<4,>=3.0.2 in /usr/local/lib/python3.6/dist-packages (from requests>=2.20.0->sodapy) (3.0.4)\n",
            "Requirement already satisfied: certifi>=2017.4.17 in /usr/local/lib/python3.6/dist-packages (from requests>=2.20.0->sodapy) (2020.12.5)\n",
            "Requirement already satisfied: idna<3,>=2.5 in /usr/local/lib/python3.6/dist-packages (from requests>=2.20.0->sodapy) (2.10)\n",
            "Installing collected packages: sodapy\n",
            "Successfully installed sodapy-2.1.0\n"
          ],
          "name": "stdout"
        }
      ]
    },
    {
      "cell_type": "code",
      "metadata": {
        "colab": {
          "base_uri": "https://localhost:8080/"
        },
        "id": "Eec5TCkwAwxP",
        "outputId": "ab7da0f3-5f8c-48c6-f9a3-6ff12118c8d4"
      },
      "source": [
        "#importing data via api \r\n",
        "\r\n",
        "#!/usr/bin/env python\r\n",
        "\r\n",
        "# make sure to install these packages before running:\r\n",
        "# pip install pandas\r\n",
        "# pip install sodapy\r\n",
        "\r\n",
        "import pandas as pd\r\n",
        "from sodapy import Socrata\r\n",
        "\r\n",
        "# Unauthenticated client only works with public data sets. Note 'None'\r\n",
        "# in place of application token, and no username or password:\r\n",
        "client = Socrata(\"data.cityofnewyork.us\", None)\r\n",
        "\r\n",
        "# Example authenticated client (needed for non-public datasets):\r\n",
        "# client = Socrata(data.cityofnewyork.us,\r\n",
        "#                  MyAppToken,\r\n",
        "#                  userame=\"user@example.com\",\r\n",
        "#                  password=\"AFakePassword\")\r\n",
        "\r\n",
        "# First 2000 results, returned as JSON from API / converted to Python list of\r\n",
        "# dictionaries by sodapy.\r\n",
        "results = client.get(\"h9gi-nx95\", limit=10000)\r\n",
        "\r\n",
        "# Convert to pandas DataFrame\r\n",
        "results_df = pd.DataFrame.from_records(results)"
      ],
      "execution_count": 3,
      "outputs": [
        {
          "output_type": "stream",
          "text": [
            "WARNING:root:Requests made without an app_token will be subject to strict throttling limits.\n"
          ],
          "name": "stderr"
        }
      ]
    },
    {
      "cell_type": "code",
      "metadata": {
        "colab": {
          "base_uri": "https://localhost:8080/",
          "height": 484
        },
        "id": "IsMm9cs5BGiN",
        "outputId": "af399f03-9ef8-4180-f563-b27e05036253"
      },
      "source": [
        "#view database and it's shape\r\n",
        "print(results_df.shape)\r\n",
        "results_df.sample(5)"
      ],
      "execution_count": 4,
      "outputs": [
        {
          "output_type": "stream",
          "text": [
            "(10000, 29)\n"
          ],
          "name": "stdout"
        },
        {
          "output_type": "execute_result",
          "data": {
            "text/html": [
              "<div>\n",
              "<style scoped>\n",
              "    .dataframe tbody tr th:only-of-type {\n",
              "        vertical-align: middle;\n",
              "    }\n",
              "\n",
              "    .dataframe tbody tr th {\n",
              "        vertical-align: top;\n",
              "    }\n",
              "\n",
              "    .dataframe thead th {\n",
              "        text-align: right;\n",
              "    }\n",
              "</style>\n",
              "<table border=\"1\" class=\"dataframe\">\n",
              "  <thead>\n",
              "    <tr style=\"text-align: right;\">\n",
              "      <th></th>\n",
              "      <th>crash_date</th>\n",
              "      <th>crash_time</th>\n",
              "      <th>on_street_name</th>\n",
              "      <th>number_of_persons_injured</th>\n",
              "      <th>number_of_persons_killed</th>\n",
              "      <th>number_of_pedestrians_injured</th>\n",
              "      <th>number_of_pedestrians_killed</th>\n",
              "      <th>number_of_cyclist_injured</th>\n",
              "      <th>number_of_cyclist_killed</th>\n",
              "      <th>number_of_motorist_injured</th>\n",
              "      <th>number_of_motorist_killed</th>\n",
              "      <th>contributing_factor_vehicle_1</th>\n",
              "      <th>collision_id</th>\n",
              "      <th>vehicle_type_code1</th>\n",
              "      <th>contributing_factor_vehicle_2</th>\n",
              "      <th>vehicle_type_code2</th>\n",
              "      <th>latitude</th>\n",
              "      <th>longitude</th>\n",
              "      <th>location</th>\n",
              "      <th>cross_street_name</th>\n",
              "      <th>off_street_name</th>\n",
              "      <th>borough</th>\n",
              "      <th>zip_code</th>\n",
              "      <th>contributing_factor_vehicle_3</th>\n",
              "      <th>vehicle_type_code_3</th>\n",
              "      <th>contributing_factor_vehicle_4</th>\n",
              "      <th>vehicle_type_code_4</th>\n",
              "      <th>contributing_factor_vehicle_5</th>\n",
              "      <th>vehicle_type_code_5</th>\n",
              "    </tr>\n",
              "  </thead>\n",
              "  <tbody>\n",
              "    <tr>\n",
              "      <th>8284</th>\n",
              "      <td>2020-12-14T00:00:00.000</td>\n",
              "      <td>12:05</td>\n",
              "      <td>1 AVENUE</td>\n",
              "      <td>1</td>\n",
              "      <td>0</td>\n",
              "      <td>1</td>\n",
              "      <td>0</td>\n",
              "      <td>0</td>\n",
              "      <td>0</td>\n",
              "      <td>0</td>\n",
              "      <td>0</td>\n",
              "      <td>Driver Inattention/Distraction</td>\n",
              "      <td>4376008</td>\n",
              "      <td>Station Wagon/Sport Utility Vehicle</td>\n",
              "      <td>NaN</td>\n",
              "      <td>NaN</td>\n",
              "      <td>40.7723400</td>\n",
              "      <td>-73.9526900</td>\n",
              "      <td>{'latitude': '40.77234', 'longitude': '-73.952...</td>\n",
              "      <td>NaN</td>\n",
              "      <td>EAST 79 STREET</td>\n",
              "      <td>MANHATTAN</td>\n",
              "      <td>10075</td>\n",
              "      <td>NaN</td>\n",
              "      <td>NaN</td>\n",
              "      <td>NaN</td>\n",
              "      <td>NaN</td>\n",
              "      <td>NaN</td>\n",
              "      <td>NaN</td>\n",
              "    </tr>\n",
              "    <tr>\n",
              "      <th>6276</th>\n",
              "      <td>2021-01-09T00:00:00.000</td>\n",
              "      <td>23:51</td>\n",
              "      <td>EAST 110 STREET</td>\n",
              "      <td>0</td>\n",
              "      <td>0</td>\n",
              "      <td>0</td>\n",
              "      <td>0</td>\n",
              "      <td>0</td>\n",
              "      <td>0</td>\n",
              "      <td>0</td>\n",
              "      <td>0</td>\n",
              "      <td>Unspecified</td>\n",
              "      <td>4383114</td>\n",
              "      <td>Sedan</td>\n",
              "      <td>Unspecified</td>\n",
              "      <td>Sedan</td>\n",
              "      <td>40.7948070</td>\n",
              "      <td>-73.9444100</td>\n",
              "      <td>{'latitude': '40.794807', 'longitude': '-73.94...</td>\n",
              "      <td>NaN</td>\n",
              "      <td>LEXINGTON AVENUE</td>\n",
              "      <td>MANHATTAN</td>\n",
              "      <td>10029</td>\n",
              "      <td>Unspecified</td>\n",
              "      <td>Station Wagon/Sport Utility Vehicle</td>\n",
              "      <td>NaN</td>\n",
              "      <td>NaN</td>\n",
              "      <td>NaN</td>\n",
              "      <td>NaN</td>\n",
              "    </tr>\n",
              "    <tr>\n",
              "      <th>5414</th>\n",
              "      <td>2021-01-31T00:00:00.000</td>\n",
              "      <td>16:00</td>\n",
              "      <td>NaN</td>\n",
              "      <td>0</td>\n",
              "      <td>0</td>\n",
              "      <td>0</td>\n",
              "      <td>0</td>\n",
              "      <td>0</td>\n",
              "      <td>0</td>\n",
              "      <td>0</td>\n",
              "      <td>0</td>\n",
              "      <td>Other Vehicular</td>\n",
              "      <td>4388232</td>\n",
              "      <td>Station Wagon/Sport Utility Vehicle</td>\n",
              "      <td>Unspecified</td>\n",
              "      <td>Sedan</td>\n",
              "      <td>40.8322450</td>\n",
              "      <td>-73.8886900</td>\n",
              "      <td>{'latitude': '40.832245', 'longitude': '-73.88...</td>\n",
              "      <td>1471      VYSE AVENUE</td>\n",
              "      <td>NaN</td>\n",
              "      <td>BRONX</td>\n",
              "      <td>10460</td>\n",
              "      <td>NaN</td>\n",
              "      <td>NaN</td>\n",
              "      <td>NaN</td>\n",
              "      <td>NaN</td>\n",
              "      <td>NaN</td>\n",
              "      <td>NaN</td>\n",
              "    </tr>\n",
              "    <tr>\n",
              "      <th>9026</th>\n",
              "      <td>2020-12-16T00:00:00.000</td>\n",
              "      <td>1:15</td>\n",
              "      <td>9 AVENUE</td>\n",
              "      <td>1</td>\n",
              "      <td>0</td>\n",
              "      <td>0</td>\n",
              "      <td>0</td>\n",
              "      <td>0</td>\n",
              "      <td>0</td>\n",
              "      <td>1</td>\n",
              "      <td>0</td>\n",
              "      <td>Turning Improperly</td>\n",
              "      <td>4376476</td>\n",
              "      <td>Sedan</td>\n",
              "      <td>Unspecified</td>\n",
              "      <td>Sprinter V</td>\n",
              "      <td>40.7584270</td>\n",
              "      <td>-73.9926400</td>\n",
              "      <td>{'latitude': '40.758427', 'longitude': '-73.99...</td>\n",
              "      <td>NaN</td>\n",
              "      <td>WEST 42 STREET</td>\n",
              "      <td>MANHATTAN</td>\n",
              "      <td>10036</td>\n",
              "      <td>NaN</td>\n",
              "      <td>NaN</td>\n",
              "      <td>NaN</td>\n",
              "      <td>NaN</td>\n",
              "      <td>NaN</td>\n",
              "      <td>NaN</td>\n",
              "    </tr>\n",
              "    <tr>\n",
              "      <th>2274</th>\n",
              "      <td>2021-01-16T00:00:00.000</td>\n",
              "      <td>19:25</td>\n",
              "      <td>SAINT NICHOLAS AVENUE</td>\n",
              "      <td>0</td>\n",
              "      <td>0</td>\n",
              "      <td>0</td>\n",
              "      <td>0</td>\n",
              "      <td>0</td>\n",
              "      <td>0</td>\n",
              "      <td>0</td>\n",
              "      <td>0</td>\n",
              "      <td>Alcohol Involvement</td>\n",
              "      <td>4384674</td>\n",
              "      <td>Station Wagon/Sport Utility Vehicle</td>\n",
              "      <td>Unspecified</td>\n",
              "      <td>Station Wagon/Sport Utility Vehicle</td>\n",
              "      <td>40.8240300</td>\n",
              "      <td>-73.9447600</td>\n",
              "      <td>{'latitude': '40.82403', 'longitude': '-73.944...</td>\n",
              "      <td>NaN</td>\n",
              "      <td>WEST 145 STREET</td>\n",
              "      <td>MANHATTAN</td>\n",
              "      <td>10030</td>\n",
              "      <td>NaN</td>\n",
              "      <td>NaN</td>\n",
              "      <td>NaN</td>\n",
              "      <td>NaN</td>\n",
              "      <td>NaN</td>\n",
              "      <td>NaN</td>\n",
              "    </tr>\n",
              "  </tbody>\n",
              "</table>\n",
              "</div>"
            ],
            "text/plain": [
              "                   crash_date  ... vehicle_type_code_5\n",
              "8284  2020-12-14T00:00:00.000  ...                 NaN\n",
              "6276  2021-01-09T00:00:00.000  ...                 NaN\n",
              "5414  2021-01-31T00:00:00.000  ...                 NaN\n",
              "9026  2020-12-16T00:00:00.000  ...                 NaN\n",
              "2274  2021-01-16T00:00:00.000  ...                 NaN\n",
              "\n",
              "[5 rows x 29 columns]"
            ]
          },
          "metadata": {
            "tags": []
          },
          "execution_count": 4
        }
      ]
    },
    {
      "cell_type": "markdown",
      "metadata": {
        "id": "dt7rmfjwFSRJ"
      },
      "source": [
        "Data Wrangling"
      ]
    },
    {
      "cell_type": "code",
      "metadata": {
        "id": "Ac7Jj4JGDj1m"
      },
      "source": [
        "import numpy as np\r\n",
        "import matplotlib.pyplot as plt\r\n",
        "import seaborn as sns"
      ],
      "execution_count": 5,
      "outputs": []
    },
    {
      "cell_type": "code",
      "metadata": {
        "colab": {
          "base_uri": "https://localhost:8080/",
          "height": 236
        },
        "id": "gtg4gPXJFBH-",
        "outputId": "35b053d6-1c3f-4407-e560-d4b3b59cae80"
      },
      "source": [
        "results_df.describe()"
      ],
      "execution_count": 6,
      "outputs": [
        {
          "output_type": "execute_result",
          "data": {
            "text/html": [
              "<div>\n",
              "<style scoped>\n",
              "    .dataframe tbody tr th:only-of-type {\n",
              "        vertical-align: middle;\n",
              "    }\n",
              "\n",
              "    .dataframe tbody tr th {\n",
              "        vertical-align: top;\n",
              "    }\n",
              "\n",
              "    .dataframe thead th {\n",
              "        text-align: right;\n",
              "    }\n",
              "</style>\n",
              "<table border=\"1\" class=\"dataframe\">\n",
              "  <thead>\n",
              "    <tr style=\"text-align: right;\">\n",
              "      <th></th>\n",
              "      <th>crash_date</th>\n",
              "      <th>crash_time</th>\n",
              "      <th>on_street_name</th>\n",
              "      <th>number_of_persons_injured</th>\n",
              "      <th>number_of_persons_killed</th>\n",
              "      <th>number_of_pedestrians_injured</th>\n",
              "      <th>number_of_pedestrians_killed</th>\n",
              "      <th>number_of_cyclist_injured</th>\n",
              "      <th>number_of_cyclist_killed</th>\n",
              "      <th>number_of_motorist_injured</th>\n",
              "      <th>number_of_motorist_killed</th>\n",
              "      <th>contributing_factor_vehicle_1</th>\n",
              "      <th>collision_id</th>\n",
              "      <th>vehicle_type_code1</th>\n",
              "      <th>contributing_factor_vehicle_2</th>\n",
              "      <th>vehicle_type_code2</th>\n",
              "      <th>latitude</th>\n",
              "      <th>longitude</th>\n",
              "      <th>location</th>\n",
              "      <th>cross_street_name</th>\n",
              "      <th>off_street_name</th>\n",
              "      <th>borough</th>\n",
              "      <th>zip_code</th>\n",
              "      <th>contributing_factor_vehicle_3</th>\n",
              "      <th>vehicle_type_code_3</th>\n",
              "      <th>contributing_factor_vehicle_4</th>\n",
              "      <th>vehicle_type_code_4</th>\n",
              "      <th>contributing_factor_vehicle_5</th>\n",
              "      <th>vehicle_type_code_5</th>\n",
              "    </tr>\n",
              "  </thead>\n",
              "  <tbody>\n",
              "    <tr>\n",
              "      <th>count</th>\n",
              "      <td>10000</td>\n",
              "      <td>10000</td>\n",
              "      <td>7382</td>\n",
              "      <td>10000</td>\n",
              "      <td>10000</td>\n",
              "      <td>10000</td>\n",
              "      <td>10000</td>\n",
              "      <td>10000</td>\n",
              "      <td>10000</td>\n",
              "      <td>10000</td>\n",
              "      <td>10000</td>\n",
              "      <td>9926</td>\n",
              "      <td>10000</td>\n",
              "      <td>9867</td>\n",
              "      <td>7457</td>\n",
              "      <td>6405</td>\n",
              "      <td>9005</td>\n",
              "      <td>9005</td>\n",
              "      <td>9005</td>\n",
              "      <td>2616</td>\n",
              "      <td>4591</td>\n",
              "      <td>6370</td>\n",
              "      <td>6369</td>\n",
              "      <td>1042</td>\n",
              "      <td>975</td>\n",
              "      <td>282</td>\n",
              "      <td>269</td>\n",
              "      <td>82</td>\n",
              "      <td>81</td>\n",
              "    </tr>\n",
              "    <tr>\n",
              "      <th>unique</th>\n",
              "      <td>182</td>\n",
              "      <td>1295</td>\n",
              "      <td>1828</td>\n",
              "      <td>11</td>\n",
              "      <td>2</td>\n",
              "      <td>4</td>\n",
              "      <td>2</td>\n",
              "      <td>3</td>\n",
              "      <td>2</td>\n",
              "      <td>11</td>\n",
              "      <td>2</td>\n",
              "      <td>48</td>\n",
              "      <td>10000</td>\n",
              "      <td>91</td>\n",
              "      <td>32</td>\n",
              "      <td>98</td>\n",
              "      <td>7261</td>\n",
              "      <td>6904</td>\n",
              "      <td>7637</td>\n",
              "      <td>2550</td>\n",
              "      <td>1905</td>\n",
              "      <td>5</td>\n",
              "      <td>176</td>\n",
              "      <td>11</td>\n",
              "      <td>27</td>\n",
              "      <td>5</td>\n",
              "      <td>12</td>\n",
              "      <td>3</td>\n",
              "      <td>4</td>\n",
              "    </tr>\n",
              "    <tr>\n",
              "      <th>top</th>\n",
              "      <td>2020-12-04T00:00:00.000</td>\n",
              "      <td>0:00</td>\n",
              "      <td>BELT PARKWAY</td>\n",
              "      <td>0</td>\n",
              "      <td>0</td>\n",
              "      <td>0</td>\n",
              "      <td>0</td>\n",
              "      <td>0</td>\n",
              "      <td>0</td>\n",
              "      <td>0</td>\n",
              "      <td>0</td>\n",
              "      <td>Unspecified</td>\n",
              "      <td>4380772</td>\n",
              "      <td>Sedan</td>\n",
              "      <td>Unspecified</td>\n",
              "      <td>Sedan</td>\n",
              "      <td>40.8618620</td>\n",
              "      <td>-73.9128200</td>\n",
              "      <td>{'latitude': '40.861862', 'longitude': '-73.91...</td>\n",
              "      <td>815       HUTCHINSON RIVER PARKWAY</td>\n",
              "      <td>3 AVENUE</td>\n",
              "      <td>BROOKLYN</td>\n",
              "      <td>11207</td>\n",
              "      <td>Unspecified</td>\n",
              "      <td>Sedan</td>\n",
              "      <td>Unspecified</td>\n",
              "      <td>Sedan</td>\n",
              "      <td>Unspecified</td>\n",
              "      <td>Sedan</td>\n",
              "    </tr>\n",
              "    <tr>\n",
              "      <th>freq</th>\n",
              "      <td>226</td>\n",
              "      <td>165</td>\n",
              "      <td>176</td>\n",
              "      <td>7032</td>\n",
              "      <td>9980</td>\n",
              "      <td>9361</td>\n",
              "      <td>9993</td>\n",
              "      <td>9630</td>\n",
              "      <td>9995</td>\n",
              "      <td>8026</td>\n",
              "      <td>9992</td>\n",
              "      <td>2734</td>\n",
              "      <td>1</td>\n",
              "      <td>4847</td>\n",
              "      <td>6463</td>\n",
              "      <td>2910</td>\n",
              "      <td>9</td>\n",
              "      <td>9</td>\n",
              "      <td>8</td>\n",
              "      <td>4</td>\n",
              "      <td>37</td>\n",
              "      <td>2246</td>\n",
              "      <td>181</td>\n",
              "      <td>978</td>\n",
              "      <td>491</td>\n",
              "      <td>268</td>\n",
              "      <td>145</td>\n",
              "      <td>78</td>\n",
              "      <td>40</td>\n",
              "    </tr>\n",
              "  </tbody>\n",
              "</table>\n",
              "</div>"
            ],
            "text/plain": [
              "                     crash_date  ... vehicle_type_code_5\n",
              "count                     10000  ...                  81\n",
              "unique                      182  ...                   4\n",
              "top     2020-12-04T00:00:00.000  ...               Sedan\n",
              "freq                        226  ...                  40\n",
              "\n",
              "[4 rows x 29 columns]"
            ]
          },
          "metadata": {
            "tags": []
          },
          "execution_count": 6
        }
      ]
    },
    {
      "cell_type": "markdown",
      "metadata": {
        "id": "A7Ago1JpFMgC"
      },
      "source": [
        "Lets go ahead and clean "
      ]
    },
    {
      "cell_type": "code",
      "metadata": {
        "colab": {
          "base_uri": "https://localhost:8080/"
        },
        "id": "LC0HoXoeFIeY",
        "outputId": "2e216458-193a-4bc3-eb14-92aed829ad99"
      },
      "source": [
        "#observe null values by columns\r\n",
        "results_df.isna().sum()"
      ],
      "execution_count": 7,
      "outputs": [
        {
          "output_type": "execute_result",
          "data": {
            "text/plain": [
              "crash_date                          0\n",
              "crash_time                          0\n",
              "on_street_name                   2618\n",
              "number_of_persons_injured           0\n",
              "number_of_persons_killed            0\n",
              "number_of_pedestrians_injured       0\n",
              "number_of_pedestrians_killed        0\n",
              "number_of_cyclist_injured           0\n",
              "number_of_cyclist_killed            0\n",
              "number_of_motorist_injured          0\n",
              "number_of_motorist_killed           0\n",
              "contributing_factor_vehicle_1      74\n",
              "collision_id                        0\n",
              "vehicle_type_code1                133\n",
              "contributing_factor_vehicle_2    2543\n",
              "vehicle_type_code2               3595\n",
              "latitude                          995\n",
              "longitude                         995\n",
              "location                          995\n",
              "cross_street_name                7384\n",
              "off_street_name                  5409\n",
              "borough                          3630\n",
              "zip_code                         3631\n",
              "contributing_factor_vehicle_3    8958\n",
              "vehicle_type_code_3              9025\n",
              "contributing_factor_vehicle_4    9718\n",
              "vehicle_type_code_4              9731\n",
              "contributing_factor_vehicle_5    9918\n",
              "vehicle_type_code_5              9919\n",
              "dtype: int64"
            ]
          },
          "metadata": {
            "tags": []
          },
          "execution_count": 7
        }
      ]
    },
    {
      "cell_type": "code",
      "metadata": {
        "id": "at-LHajTMCCc"
      },
      "source": [
        "#drop irrevlevant columns with high Null values\r\n",
        "results_df.drop([ 'location', 'on_street_name', 'contributing_factor_vehicle_2',\r\n",
        "       'vehicle_type_code2', 'contributing_factor_vehicle_3',\r\n",
        "       'vehicle_type_code_3', 'off_street_name',\r\n",
        "       'cross_street_name', 'contributing_factor_vehicle_4',\r\n",
        "       'contributing_factor_vehicle_5', 'vehicle_type_code_4',\r\n",
        "       'vehicle_type_code_5'], axis = 1, inplace = True )"
      ],
      "execution_count": 8,
      "outputs": []
    },
    {
      "cell_type": "markdown",
      "metadata": {
        "id": "H93YkQC7LYr3"
      },
      "source": [
        "dropped all columns with over  50% NAs: "
      ]
    },
    {
      "cell_type": "code",
      "metadata": {
        "colab": {
          "base_uri": "https://localhost:8080/",
          "height": 206
        },
        "id": "hjGupz6FLf_2",
        "outputId": "323ba3a7-f595-4778-81c2-86326c5579f3"
      },
      "source": [
        "results_df.sample(3)"
      ],
      "execution_count": 9,
      "outputs": [
        {
          "output_type": "execute_result",
          "data": {
            "text/html": [
              "<div>\n",
              "<style scoped>\n",
              "    .dataframe tbody tr th:only-of-type {\n",
              "        vertical-align: middle;\n",
              "    }\n",
              "\n",
              "    .dataframe tbody tr th {\n",
              "        vertical-align: top;\n",
              "    }\n",
              "\n",
              "    .dataframe thead th {\n",
              "        text-align: right;\n",
              "    }\n",
              "</style>\n",
              "<table border=\"1\" class=\"dataframe\">\n",
              "  <thead>\n",
              "    <tr style=\"text-align: right;\">\n",
              "      <th></th>\n",
              "      <th>crash_date</th>\n",
              "      <th>crash_time</th>\n",
              "      <th>number_of_persons_injured</th>\n",
              "      <th>number_of_persons_killed</th>\n",
              "      <th>number_of_pedestrians_injured</th>\n",
              "      <th>number_of_pedestrians_killed</th>\n",
              "      <th>number_of_cyclist_injured</th>\n",
              "      <th>number_of_cyclist_killed</th>\n",
              "      <th>number_of_motorist_injured</th>\n",
              "      <th>number_of_motorist_killed</th>\n",
              "      <th>contributing_factor_vehicle_1</th>\n",
              "      <th>collision_id</th>\n",
              "      <th>vehicle_type_code1</th>\n",
              "      <th>latitude</th>\n",
              "      <th>longitude</th>\n",
              "      <th>borough</th>\n",
              "      <th>zip_code</th>\n",
              "    </tr>\n",
              "  </thead>\n",
              "  <tbody>\n",
              "    <tr>\n",
              "      <th>4630</th>\n",
              "      <td>2020-12-09T00:00:00.000</td>\n",
              "      <td>14:00</td>\n",
              "      <td>1</td>\n",
              "      <td>0</td>\n",
              "      <td>0</td>\n",
              "      <td>0</td>\n",
              "      <td>1</td>\n",
              "      <td>0</td>\n",
              "      <td>0</td>\n",
              "      <td>0</td>\n",
              "      <td>Failure to Yield Right-of-Way</td>\n",
              "      <td>4375084</td>\n",
              "      <td>Sedan</td>\n",
              "      <td>40.6629400</td>\n",
              "      <td>-73.8755800</td>\n",
              "      <td>BROOKLYN</td>\n",
              "      <td>11208</td>\n",
              "    </tr>\n",
              "    <tr>\n",
              "      <th>5061</th>\n",
              "      <td>2020-12-15T00:00:00.000</td>\n",
              "      <td>13:40</td>\n",
              "      <td>0</td>\n",
              "      <td>0</td>\n",
              "      <td>0</td>\n",
              "      <td>0</td>\n",
              "      <td>0</td>\n",
              "      <td>0</td>\n",
              "      <td>0</td>\n",
              "      <td>0</td>\n",
              "      <td>Passing or Lane Usage Improper</td>\n",
              "      <td>4376550</td>\n",
              "      <td>Station Wagon/Sport Utility Vehicle</td>\n",
              "      <td>40.7832260</td>\n",
              "      <td>-73.8386200</td>\n",
              "      <td>QUEENS</td>\n",
              "      <td>11356</td>\n",
              "    </tr>\n",
              "    <tr>\n",
              "      <th>2829</th>\n",
              "      <td>2021-01-05T00:00:00.000</td>\n",
              "      <td>19:15</td>\n",
              "      <td>0</td>\n",
              "      <td>0</td>\n",
              "      <td>0</td>\n",
              "      <td>0</td>\n",
              "      <td>0</td>\n",
              "      <td>0</td>\n",
              "      <td>0</td>\n",
              "      <td>0</td>\n",
              "      <td>Backing Unsafely</td>\n",
              "      <td>4381952</td>\n",
              "      <td>Sedan</td>\n",
              "      <td>40.8574180</td>\n",
              "      <td>-73.8999560</td>\n",
              "      <td>BRONX</td>\n",
              "      <td>10468</td>\n",
              "    </tr>\n",
              "  </tbody>\n",
              "</table>\n",
              "</div>"
            ],
            "text/plain": [
              "                   crash_date crash_time  ...   borough zip_code\n",
              "4630  2020-12-09T00:00:00.000      14:00  ...  BROOKLYN    11208\n",
              "5061  2020-12-15T00:00:00.000      13:40  ...    QUEENS    11356\n",
              "2829  2021-01-05T00:00:00.000      19:15  ...     BRONX    10468\n",
              "\n",
              "[3 rows x 17 columns]"
            ]
          },
          "metadata": {
            "tags": []
          },
          "execution_count": 9
        }
      ]
    },
    {
      "cell_type": "code",
      "metadata": {
        "colab": {
          "base_uri": "https://localhost:8080/"
        },
        "id": "NjgPyPnTa9G9",
        "outputId": "638c5f99-e822-4683-90c5-2b7c1b3b74f4"
      },
      "source": [
        "#check for null values again\r\n",
        "print(results_df.shape)\r\n",
        "results_df.isna().sum()\r\n",
        "\r\n",
        "#we can obtain borough and zip columns from d lonitude and latitude columns"
      ],
      "execution_count": 10,
      "outputs": [
        {
          "output_type": "stream",
          "text": [
            "(10000, 17)\n"
          ],
          "name": "stdout"
        },
        {
          "output_type": "execute_result",
          "data": {
            "text/plain": [
              "crash_date                          0\n",
              "crash_time                          0\n",
              "number_of_persons_injured           0\n",
              "number_of_persons_killed            0\n",
              "number_of_pedestrians_injured       0\n",
              "number_of_pedestrians_killed        0\n",
              "number_of_cyclist_injured           0\n",
              "number_of_cyclist_killed            0\n",
              "number_of_motorist_injured          0\n",
              "number_of_motorist_killed           0\n",
              "contributing_factor_vehicle_1      74\n",
              "collision_id                        0\n",
              "vehicle_type_code1                133\n",
              "latitude                          995\n",
              "longitude                         995\n",
              "borough                          3630\n",
              "zip_code                         3631\n",
              "dtype: int64"
            ]
          },
          "metadata": {
            "tags": []
          },
          "execution_count": 10
        }
      ]
    },
    {
      "cell_type": "code",
      "metadata": {
        "colab": {
          "base_uri": "https://localhost:8080/"
        },
        "id": "Lu5PWVNoFMlS",
        "outputId": "fd723595-b76c-47d8-a29c-c884fd1a8621"
      },
      "source": [
        "#drop lat and longitude colunmns with Null values\r\n",
        "df = results_df[~results_df['longitude'].isna()]\r\n",
        "df.isna().sum()"
      ],
      "execution_count": 11,
      "outputs": [
        {
          "output_type": "execute_result",
          "data": {
            "text/plain": [
              "crash_date                          0\n",
              "crash_time                          0\n",
              "number_of_persons_injured           0\n",
              "number_of_persons_killed            0\n",
              "number_of_pedestrians_injured       0\n",
              "number_of_pedestrians_killed        0\n",
              "number_of_cyclist_injured           0\n",
              "number_of_cyclist_killed            0\n",
              "number_of_motorist_injured          0\n",
              "number_of_motorist_killed           0\n",
              "contributing_factor_vehicle_1      67\n",
              "collision_id                        0\n",
              "vehicle_type_code1                123\n",
              "latitude                            0\n",
              "longitude                           0\n",
              "borough                          2856\n",
              "zip_code                         2857\n",
              "dtype: int64"
            ]
          },
          "metadata": {
            "tags": []
          },
          "execution_count": 11
        }
      ]
    },
    {
      "cell_type": "code",
      "metadata": {
        "colab": {
          "base_uri": "https://localhost:8080/"
        },
        "id": "Bm45FcwXQ7_K",
        "outputId": "8ea5627f-e01f-4bf2-b695-264e03e2bded"
      },
      "source": [
        "#observe we still have some null values on borough and zip_codes, lets isolate them\r\n",
        "\r\n",
        "df_pre = df[df['zip_code'].isna()]\r\n",
        "df_dim = df_pre[['latitude', 'longitude', 'zip_code', 'borough']]\r\n",
        "df_dim.dtypes"
      ],
      "execution_count": 12,
      "outputs": [
        {
          "output_type": "execute_result",
          "data": {
            "text/plain": [
              "latitude     object\n",
              "longitude    object\n",
              "zip_code     object\n",
              "borough      object\n",
              "dtype: object"
            ]
          },
          "metadata": {
            "tags": []
          },
          "execution_count": 12
        }
      ]
    },
    {
      "cell_type": "code",
      "metadata": {
        "colab": {
          "base_uri": "https://localhost:8080/"
        },
        "id": "r27C08Z_pqV9",
        "outputId": "d8baa3d7-1126-4cd2-dccb-2f9003337d0a"
      },
      "source": [
        "#convert latitude, longitude to correct dtypes\r\n",
        "\r\n",
        "df_dim[['latitude', 'longitude', 'zip_code']] = df_pre[['latitude', 'longitude', 'zip_code']].astype(float)\r\n",
        "df_dim.dtypes"
      ],
      "execution_count": 13,
      "outputs": [
        {
          "output_type": "stream",
          "text": [
            "/usr/local/lib/python3.6/dist-packages/pandas/core/frame.py:3069: SettingWithCopyWarning: \n",
            "A value is trying to be set on a copy of a slice from a DataFrame.\n",
            "Try using .loc[row_indexer,col_indexer] = value instead\n",
            "\n",
            "See the caveats in the documentation: https://pandas.pydata.org/pandas-docs/stable/user_guide/indexing.html#returning-a-view-versus-a-copy\n",
            "  self[k1] = value[k2]\n"
          ],
          "name": "stderr"
        },
        {
          "output_type": "execute_result",
          "data": {
            "text/plain": [
              "latitude     float64\n",
              "longitude    float64\n",
              "zip_code     float64\n",
              "borough       object\n",
              "dtype: object"
            ]
          },
          "metadata": {
            "tags": []
          },
          "execution_count": 13
        }
      ]
    },
    {
      "cell_type": "code",
      "metadata": {
        "colab": {
          "base_uri": "https://localhost:8080/"
        },
        "id": "_k9rbYlgi8lW",
        "outputId": "410e499e-5d40-4cf5-9449-bd32a06a84e5"
      },
      "source": [
        "#In order to obtain missing zipcodes and borough columns from the latitude and longitude, we use the uszipcode package\r\n",
        "!pip install uszipcode"
      ],
      "execution_count": 14,
      "outputs": [
        {
          "output_type": "stream",
          "text": [
            "Collecting uszipcode\n",
            "\u001b[?25l  Downloading https://files.pythonhosted.org/packages/bc/94/1b908c6fe2008f0e913b0b2d97951aa76e00ec1044883c012afb2e477b4a/uszipcode-0.2.4-py2.py3-none-any.whl (378kB)\n",
            "\r\u001b[K     |▉                               | 10kB 14.3MB/s eta 0:00:01\r\u001b[K     |█▊                              | 20kB 17.3MB/s eta 0:00:01\r\u001b[K     |██▋                             | 30kB 10.6MB/s eta 0:00:01\r\u001b[K     |███▌                            | 40kB 8.0MB/s eta 0:00:01\r\u001b[K     |████▎                           | 51kB 5.5MB/s eta 0:00:01\r\u001b[K     |█████▏                          | 61kB 5.9MB/s eta 0:00:01\r\u001b[K     |██████                          | 71kB 6.2MB/s eta 0:00:01\r\u001b[K     |███████                         | 81kB 6.4MB/s eta 0:00:01\r\u001b[K     |███████▉                        | 92kB 6.6MB/s eta 0:00:01\r\u001b[K     |████████▋                       | 102kB 6.6MB/s eta 0:00:01\r\u001b[K     |█████████▌                      | 112kB 6.6MB/s eta 0:00:01\r\u001b[K     |██████████▍                     | 122kB 6.6MB/s eta 0:00:01\r\u001b[K     |███████████▎                    | 133kB 6.6MB/s eta 0:00:01\r\u001b[K     |████████████                    | 143kB 6.6MB/s eta 0:00:01\r\u001b[K     |█████████████                   | 153kB 6.6MB/s eta 0:00:01\r\u001b[K     |█████████████▉                  | 163kB 6.6MB/s eta 0:00:01\r\u001b[K     |██████████████▊                 | 174kB 6.6MB/s eta 0:00:01\r\u001b[K     |███████████████▋                | 184kB 6.6MB/s eta 0:00:01\r\u001b[K     |████████████████▍               | 194kB 6.6MB/s eta 0:00:01\r\u001b[K     |█████████████████▎              | 204kB 6.6MB/s eta 0:00:01\r\u001b[K     |██████████████████▏             | 215kB 6.6MB/s eta 0:00:01\r\u001b[K     |███████████████████             | 225kB 6.6MB/s eta 0:00:01\r\u001b[K     |████████████████████            | 235kB 6.6MB/s eta 0:00:01\r\u001b[K     |████████████████████▊           | 245kB 6.6MB/s eta 0:00:01\r\u001b[K     |█████████████████████▋          | 256kB 6.6MB/s eta 0:00:01\r\u001b[K     |██████████████████████▌         | 266kB 6.6MB/s eta 0:00:01\r\u001b[K     |███████████████████████▍        | 276kB 6.6MB/s eta 0:00:01\r\u001b[K     |████████████████████████▏       | 286kB 6.6MB/s eta 0:00:01\r\u001b[K     |█████████████████████████       | 296kB 6.6MB/s eta 0:00:01\r\u001b[K     |██████████████████████████      | 307kB 6.6MB/s eta 0:00:01\r\u001b[K     |██████████████████████████▉     | 317kB 6.6MB/s eta 0:00:01\r\u001b[K     |███████████████████████████▊    | 327kB 6.6MB/s eta 0:00:01\r\u001b[K     |████████████████████████████▌   | 337kB 6.6MB/s eta 0:00:01\r\u001b[K     |█████████████████████████████▍  | 348kB 6.6MB/s eta 0:00:01\r\u001b[K     |██████████████████████████████▎ | 358kB 6.6MB/s eta 0:00:01\r\u001b[K     |███████████████████████████████▏| 368kB 6.6MB/s eta 0:00:01\r\u001b[K     |████████████████████████████████| 378kB 6.6MB/s \n",
            "\u001b[?25hRequirement already satisfied: sqlalchemy in /usr/local/lib/python3.6/dist-packages (from uszipcode) (1.3.23)\n",
            "Requirement already satisfied: requests in /usr/local/lib/python3.6/dist-packages (from uszipcode) (2.23.0)\n",
            "Requirement already satisfied: attrs in /usr/local/lib/python3.6/dist-packages (from uszipcode) (20.3.0)\n",
            "Collecting pathlib-mate\n",
            "\u001b[?25l  Downloading https://files.pythonhosted.org/packages/ec/78/dbce7abaf061297b0b34daff4217d056af9a922c8484bb79494693cf4314/pathlib_mate-1.0.1-py2.py3-none-any.whl (78kB)\n",
            "\u001b[K     |████████████████████████████████| 81kB 5.9MB/s \n",
            "\u001b[?25hRequirement already satisfied: certifi>=2017.4.17 in /usr/local/lib/python3.6/dist-packages (from requests->uszipcode) (2020.12.5)\n",
            "Requirement already satisfied: urllib3!=1.25.0,!=1.25.1,<1.26,>=1.21.1 in /usr/local/lib/python3.6/dist-packages (from requests->uszipcode) (1.24.3)\n",
            "Requirement already satisfied: idna<3,>=2.5 in /usr/local/lib/python3.6/dist-packages (from requests->uszipcode) (2.10)\n",
            "Requirement already satisfied: chardet<4,>=3.0.2 in /usr/local/lib/python3.6/dist-packages (from requests->uszipcode) (3.0.4)\n",
            "Requirement already satisfied: six in /usr/local/lib/python3.6/dist-packages (from pathlib-mate->uszipcode) (1.15.0)\n",
            "Collecting autopep8\n",
            "\u001b[?25l  Downloading https://files.pythonhosted.org/packages/58/e5/a06510cfa9caaaffebf74084f8886a93a96273dbf22a1c920ca1af00997a/autopep8-1.5.5-py2.py3-none-any.whl (44kB)\n",
            "\u001b[K     |████████████████████████████████| 51kB 4.2MB/s \n",
            "\u001b[?25hRequirement already satisfied: atomicwrites in /usr/local/lib/python3.6/dist-packages (from pathlib-mate->uszipcode) (1.4.0)\n",
            "Requirement already satisfied: toml in /usr/local/lib/python3.6/dist-packages (from autopep8->pathlib-mate->uszipcode) (0.10.2)\n",
            "Collecting pycodestyle>=2.6.0\n",
            "\u001b[?25l  Downloading https://files.pythonhosted.org/packages/10/5b/88879fb861ab79aef45c7e199cae3ef7af487b5603dcb363517a50602dd7/pycodestyle-2.6.0-py2.py3-none-any.whl (41kB)\n",
            "\u001b[K     |████████████████████████████████| 51kB 3.8MB/s \n",
            "\u001b[?25hInstalling collected packages: pycodestyle, autopep8, pathlib-mate, uszipcode\n",
            "Successfully installed autopep8-1.5.5 pathlib-mate-1.0.1 pycodestyle-2.6.0 uszipcode-0.2.4\n"
          ],
          "name": "stdout"
        }
      ]
    },
    {
      "cell_type": "code",
      "metadata": {
        "id": "XZPryUMfiKGG"
      },
      "source": [
        "import pandas as pd\r\n",
        "import numpy as np\r\n",
        "import time\r\n",
        "from uszipcode import SearchEngine\r\n"
      ],
      "execution_count": 15,
      "outputs": []
    },
    {
      "cell_type": "code",
      "metadata": {
        "colab": {
          "base_uri": "https://localhost:8080/",
          "height": 195
        },
        "id": "NQo6GnhRgTEn",
        "outputId": "6a6fa24f-f2f4-49dc-cbfa-9606ac02ae0d"
      },
      "source": [
        "#quick glance at an isolated dataframe of longitude, latitude and the missing zipcode and borough\r\n",
        "df_dim.head()"
      ],
      "execution_count": 16,
      "outputs": [
        {
          "output_type": "execute_result",
          "data": {
            "text/html": [
              "<div>\n",
              "<style scoped>\n",
              "    .dataframe tbody tr th:only-of-type {\n",
              "        vertical-align: middle;\n",
              "    }\n",
              "\n",
              "    .dataframe tbody tr th {\n",
              "        vertical-align: top;\n",
              "    }\n",
              "\n",
              "    .dataframe thead th {\n",
              "        text-align: right;\n",
              "    }\n",
              "</style>\n",
              "<table border=\"1\" class=\"dataframe\">\n",
              "  <thead>\n",
              "    <tr style=\"text-align: right;\">\n",
              "      <th></th>\n",
              "      <th>latitude</th>\n",
              "      <th>longitude</th>\n",
              "      <th>zip_code</th>\n",
              "      <th>borough</th>\n",
              "    </tr>\n",
              "  </thead>\n",
              "  <tbody>\n",
              "    <tr>\n",
              "      <th>2</th>\n",
              "      <td>40.697815</td>\n",
              "      <td>-73.76020</td>\n",
              "      <td>NaN</td>\n",
              "      <td>NaN</td>\n",
              "    </tr>\n",
              "    <tr>\n",
              "      <th>17</th>\n",
              "      <td>40.724667</td>\n",
              "      <td>-73.82076</td>\n",
              "      <td>NaN</td>\n",
              "      <td>NaN</td>\n",
              "    </tr>\n",
              "    <tr>\n",
              "      <th>26</th>\n",
              "      <td>40.866447</td>\n",
              "      <td>-73.93050</td>\n",
              "      <td>NaN</td>\n",
              "      <td>NaN</td>\n",
              "    </tr>\n",
              "    <tr>\n",
              "      <th>32</th>\n",
              "      <td>40.657093</td>\n",
              "      <td>-73.95026</td>\n",
              "      <td>NaN</td>\n",
              "      <td>NaN</td>\n",
              "    </tr>\n",
              "    <tr>\n",
              "      <th>47</th>\n",
              "      <td>40.665730</td>\n",
              "      <td>-73.75376</td>\n",
              "      <td>NaN</td>\n",
              "      <td>NaN</td>\n",
              "    </tr>\n",
              "  </tbody>\n",
              "</table>\n",
              "</div>"
            ],
            "text/plain": [
              "     latitude  longitude  zip_code borough\n",
              "2   40.697815  -73.76020       NaN     NaN\n",
              "17  40.724667  -73.82076       NaN     NaN\n",
              "26  40.866447  -73.93050       NaN     NaN\n",
              "32  40.657093  -73.95026       NaN     NaN\n",
              "47  40.665730  -73.75376       NaN     NaN"
            ]
          },
          "metadata": {
            "tags": []
          },
          "execution_count": 16
        }
      ]
    },
    {
      "cell_type": "code",
      "metadata": {
        "colab": {
          "base_uri": "https://localhost:8080/"
        },
        "id": "gV3m9mVJHDEi",
        "outputId": "e3124246-8e1d-458c-c038-ab97c278b065"
      },
      "source": [
        "#loop through to obtain the missing zip and borough\r\n",
        "search = SearchEngine()\r\n",
        "pdf = df_dim\r\n",
        "\r\n",
        "tic = time.time()\r\n",
        "for idx in pdf.iloc[:,:].index:\r\n",
        "    try:\r\n",
        "        pdf['zip_code'][idx] = search.by_coordinates(\r\n",
        "                    pdf['latitude'][idx], pdf['longitude'][idx], \r\n",
        "                    returns=1)[0].to_dict()[\"zipcode\"]\r\n",
        "                    \r\n",
        "    except:\r\n",
        "        pdf['zip_code'][idx] = 'bad'\r\n",
        "\r\n",
        "    try:\r\n",
        "        pdf['borough'][idx] = search.by_coordinates(\r\n",
        "                    pdf['latitude'][idx], pdf['longitude'][idx], \r\n",
        "                    returns=1)[0].to_dict()[\"county\"]\r\n",
        "                    \r\n",
        "    except:\r\n",
        "        pdf['borough'][idx] = 'bad'\r\n",
        "toc = time.time()\r\n",
        "toc - tic"
      ],
      "execution_count": 17,
      "outputs": [
        {
          "output_type": "stream",
          "text": [
            "Start downloading data for simple zipcode database, total size 9MB ...\n",
            "  1 MB finished ...\n",
            "  2 MB finished ...\n",
            "  3 MB finished ...\n",
            "  4 MB finished ...\n",
            "  5 MB finished ...\n",
            "  6 MB finished ...\n",
            "  7 MB finished ...\n",
            "  8 MB finished ...\n",
            "  9 MB finished ...\n",
            "  10 MB finished ...\n",
            "  Complete!\n"
          ],
          "name": "stdout"
        },
        {
          "output_type": "stream",
          "text": [
            "/usr/local/lib/python3.6/dist-packages/ipykernel_launcher.py:9: SettingWithCopyWarning: \n",
            "A value is trying to be set on a copy of a slice from a DataFrame\n",
            "\n",
            "See the caveats in the documentation: https://pandas.pydata.org/pandas-docs/stable/user_guide/indexing.html#returning-a-view-versus-a-copy\n",
            "  if __name__ == '__main__':\n",
            "/usr/local/lib/python3.6/dist-packages/IPython/core/interactiveshell.py:2882: SettingWithCopyWarning: \n",
            "A value is trying to be set on a copy of a slice from a DataFrame\n",
            "\n",
            "See the caveats in the documentation: https://pandas.pydata.org/pandas-docs/stable/user_guide/indexing.html#returning-a-view-versus-a-copy\n",
            "  exec(code_obj, self.user_global_ns, self.user_ns)\n",
            "/usr/local/lib/python3.6/dist-packages/ipykernel_launcher.py:17: SettingWithCopyWarning: \n",
            "A value is trying to be set on a copy of a slice from a DataFrame\n",
            "\n",
            "See the caveats in the documentation: https://pandas.pydata.org/pandas-docs/stable/user_guide/indexing.html#returning-a-view-versus-a-copy\n"
          ],
          "name": "stderr"
        },
        {
          "output_type": "execute_result",
          "data": {
            "text/plain": [
              "119.21937656402588"
            ]
          },
          "metadata": {
            "tags": []
          },
          "execution_count": 17
        }
      ]
    },
    {
      "cell_type": "code",
      "metadata": {
        "colab": {
          "base_uri": "https://localhost:8080/"
        },
        "id": "gliNSx7IO94t",
        "outputId": "aaeeb1b3-dbab-4841-9dc3-626eb4d436f4"
      },
      "source": [
        "print(df.shape)\r\n",
        "print(pdf.shape)"
      ],
      "execution_count": 18,
      "outputs": [
        {
          "output_type": "stream",
          "text": [
            "(9005, 17)\n",
            "(2857, 4)\n"
          ],
          "name": "stdout"
        }
      ]
    },
    {
      "cell_type": "code",
      "metadata": {
        "colab": {
          "base_uri": "https://localhost:8080/"
        },
        "id": "p-E9KX9oVtRE",
        "outputId": "c4a2fb6f-e49f-4cdb-da4e-b2d7893dddcc"
      },
      "source": [
        "#let's update df\r\n",
        "df.update(pdf)"
      ],
      "execution_count": 19,
      "outputs": [
        {
          "output_type": "stream",
          "text": [
            "/usr/local/lib/python3.6/dist-packages/pandas/core/frame.py:6397: SettingWithCopyWarning: \n",
            "A value is trying to be set on a copy of a slice from a DataFrame.\n",
            "Try using .loc[row_indexer,col_indexer] = value instead\n",
            "\n",
            "See the caveats in the documentation: https://pandas.pydata.org/pandas-docs/stable/user_guide/indexing.html#returning-a-view-versus-a-copy\n",
            "  self[col] = expressions.where(mask, this, that)\n"
          ],
          "name": "stderr"
        }
      ]
    },
    {
      "cell_type": "code",
      "metadata": {
        "id": "Q3YfzuAqVlYH"
      },
      "source": [
        "#but note there still some mess in df... \r\n",
        "#'bad, \"county vs bourough\", \"other NAs\"\r\n",
        "#drop remaining NAs\r\n",
        "df2 = df.dropna()"
      ],
      "execution_count": 20,
      "outputs": []
    },
    {
      "cell_type": "code",
      "metadata": {
        "id": "UiK-LhOPbmjD"
      },
      "source": [
        "#drop failed, where it yielded 'bad' zip_code and borough\r\n",
        "df2 = df2[~(df2['zip_code']== 'bad')]"
      ],
      "execution_count": 21,
      "outputs": []
    },
    {
      "cell_type": "code",
      "metadata": {
        "colab": {
          "base_uri": "https://localhost:8080/"
        },
        "id": "rnIxPeFlcP2r",
        "outputId": "0b35219e-6336-4613-82be-6cec5e6d3e12"
      },
      "source": [
        "#Note that county and bourough are diff... we need the borough not county\r\n",
        "print(df2['borough'].unique())"
      ],
      "execution_count": 22,
      "outputs": [
        {
          "output_type": "stream",
          "text": [
            "['Queens County' 'New York County' 'MANHATTAN' 'QUEENS' 'STATEN ISLAND'\n",
            " 'Kings County' 'BROOKLYN' 'BRONX' 'Bronx County' 'Richmond County'\n",
            " 'Westchester County' 'Nassau County']\n"
          ],
          "name": "stdout"
        }
      ]
    },
    {
      "cell_type": "code",
      "metadata": {
        "id": "1vU-nSZhogKj"
      },
      "source": [
        "#Bergen county is in New Jersey, so drop\r\n",
        "df3 = df2[~(df2['borough'] == 'Bergen County')]"
      ],
      "execution_count": 23,
      "outputs": []
    },
    {
      "cell_type": "code",
      "metadata": {
        "colab": {
          "base_uri": "https://localhost:8080/"
        },
        "id": "DSY3JzXsj8zJ",
        "outputId": "582e8211-3138-40db-e383-8c2a86c44d15"
      },
      "source": [
        "df3.replace({'borough': dict.fromkeys(['Queens County', 'Nassau County', 'Richmond County'], 'QUEENS')}, inplace = True)\r\n",
        "df3.replace({'borough': dict.fromkeys(['Bronx County', 'Westchester County'], 'BRONX')}, inplace= True)\r\n",
        "df3.replace({ 'borough': {'Kings County': 'BROOKLYN', 'New York County':  'MANHATTAN'}}, inplace= True)\r\n",
        "\r\n",
        "df3['borough'].unique()"
      ],
      "execution_count": 24,
      "outputs": [
        {
          "output_type": "execute_result",
          "data": {
            "text/plain": [
              "array(['QUEENS', 'MANHATTAN', 'STATEN ISLAND', 'BROOKLYN', 'BRONX'],\n",
              "      dtype=object)"
            ]
          },
          "metadata": {
            "tags": []
          },
          "execution_count": 24
        }
      ]
    },
    {
      "cell_type": "code",
      "metadata": {
        "colab": {
          "base_uri": "https://localhost:8080/",
          "height": 299
        },
        "id": "BIZwolqjbibY",
        "outputId": "bf424e23-2304-4def-e08a-d213db6f2aed"
      },
      "source": [
        "df3.head()"
      ],
      "execution_count": 25,
      "outputs": [
        {
          "output_type": "execute_result",
          "data": {
            "text/html": [
              "<div>\n",
              "<style scoped>\n",
              "    .dataframe tbody tr th:only-of-type {\n",
              "        vertical-align: middle;\n",
              "    }\n",
              "\n",
              "    .dataframe tbody tr th {\n",
              "        vertical-align: top;\n",
              "    }\n",
              "\n",
              "    .dataframe thead th {\n",
              "        text-align: right;\n",
              "    }\n",
              "</style>\n",
              "<table border=\"1\" class=\"dataframe\">\n",
              "  <thead>\n",
              "    <tr style=\"text-align: right;\">\n",
              "      <th></th>\n",
              "      <th>crash_date</th>\n",
              "      <th>crash_time</th>\n",
              "      <th>number_of_persons_injured</th>\n",
              "      <th>number_of_persons_killed</th>\n",
              "      <th>number_of_pedestrians_injured</th>\n",
              "      <th>number_of_pedestrians_killed</th>\n",
              "      <th>number_of_cyclist_injured</th>\n",
              "      <th>number_of_cyclist_killed</th>\n",
              "      <th>number_of_motorist_injured</th>\n",
              "      <th>number_of_motorist_killed</th>\n",
              "      <th>contributing_factor_vehicle_1</th>\n",
              "      <th>collision_id</th>\n",
              "      <th>vehicle_type_code1</th>\n",
              "      <th>latitude</th>\n",
              "      <th>longitude</th>\n",
              "      <th>borough</th>\n",
              "      <th>zip_code</th>\n",
              "    </tr>\n",
              "  </thead>\n",
              "  <tbody>\n",
              "    <tr>\n",
              "      <th>2</th>\n",
              "      <td>2021-02-01T00:00:00.000</td>\n",
              "      <td>15:30</td>\n",
              "      <td>0</td>\n",
              "      <td>0</td>\n",
              "      <td>0</td>\n",
              "      <td>0</td>\n",
              "      <td>0</td>\n",
              "      <td>0</td>\n",
              "      <td>0</td>\n",
              "      <td>0</td>\n",
              "      <td>Unspecified</td>\n",
              "      <td>4388639</td>\n",
              "      <td>Sedan</td>\n",
              "      <td>40.6978</td>\n",
              "      <td>-73.7602</td>\n",
              "      <td>QUEENS</td>\n",
              "      <td>11412</td>\n",
              "    </tr>\n",
              "    <tr>\n",
              "      <th>26</th>\n",
              "      <td>2021-01-19T00:00:00.000</td>\n",
              "      <td>14:40</td>\n",
              "      <td>0</td>\n",
              "      <td>0</td>\n",
              "      <td>0</td>\n",
              "      <td>0</td>\n",
              "      <td>0</td>\n",
              "      <td>0</td>\n",
              "      <td>0</td>\n",
              "      <td>0</td>\n",
              "      <td>Following Too Closely</td>\n",
              "      <td>4385331</td>\n",
              "      <td>Sedan</td>\n",
              "      <td>40.8664</td>\n",
              "      <td>-73.9305</td>\n",
              "      <td>MANHATTAN</td>\n",
              "      <td>10034</td>\n",
              "    </tr>\n",
              "    <tr>\n",
              "      <th>28</th>\n",
              "      <td>2021-01-19T00:00:00.000</td>\n",
              "      <td>8:22</td>\n",
              "      <td>1</td>\n",
              "      <td>0</td>\n",
              "      <td>1</td>\n",
              "      <td>0</td>\n",
              "      <td>0</td>\n",
              "      <td>0</td>\n",
              "      <td>0</td>\n",
              "      <td>0</td>\n",
              "      <td>Pedestrian/Bicyclist/Other Pedestrian Error/Co...</td>\n",
              "      <td>4385270</td>\n",
              "      <td>Bike</td>\n",
              "      <td>40.7747080</td>\n",
              "      <td>-73.9746900</td>\n",
              "      <td>MANHATTAN</td>\n",
              "      <td>10000</td>\n",
              "    </tr>\n",
              "    <tr>\n",
              "      <th>29</th>\n",
              "      <td>2021-01-19T00:00:00.000</td>\n",
              "      <td>9:20</td>\n",
              "      <td>0</td>\n",
              "      <td>0</td>\n",
              "      <td>0</td>\n",
              "      <td>0</td>\n",
              "      <td>0</td>\n",
              "      <td>0</td>\n",
              "      <td>0</td>\n",
              "      <td>0</td>\n",
              "      <td>Backing Unsafely</td>\n",
              "      <td>4385175</td>\n",
              "      <td>Sedan</td>\n",
              "      <td>40.7610470</td>\n",
              "      <td>-73.8351800</td>\n",
              "      <td>QUEENS</td>\n",
              "      <td>11354</td>\n",
              "    </tr>\n",
              "    <tr>\n",
              "      <th>31</th>\n",
              "      <td>2021-01-16T00:00:00.000</td>\n",
              "      <td>9:00</td>\n",
              "      <td>0</td>\n",
              "      <td>0</td>\n",
              "      <td>0</td>\n",
              "      <td>0</td>\n",
              "      <td>0</td>\n",
              "      <td>0</td>\n",
              "      <td>0</td>\n",
              "      <td>0</td>\n",
              "      <td>Unsafe Speed</td>\n",
              "      <td>4384644</td>\n",
              "      <td>Sedan</td>\n",
              "      <td>40.6103400</td>\n",
              "      <td>-74.0734940</td>\n",
              "      <td>STATEN ISLAND</td>\n",
              "      <td>10305</td>\n",
              "    </tr>\n",
              "  </tbody>\n",
              "</table>\n",
              "</div>"
            ],
            "text/plain": [
              "                 crash_date crash_time  ...        borough zip_code\n",
              "2   2021-02-01T00:00:00.000      15:30  ...         QUEENS    11412\n",
              "26  2021-01-19T00:00:00.000      14:40  ...      MANHATTAN    10034\n",
              "28  2021-01-19T00:00:00.000       8:22  ...      MANHATTAN    10000\n",
              "29  2021-01-19T00:00:00.000       9:20  ...         QUEENS    11354\n",
              "31  2021-01-16T00:00:00.000       9:00  ...  STATEN ISLAND    10305\n",
              "\n",
              "[5 rows x 17 columns]"
            ]
          },
          "metadata": {
            "tags": []
          },
          "execution_count": 25
        }
      ]
    },
    {
      "cell_type": "code",
      "metadata": {
        "colab": {
          "base_uri": "https://localhost:8080/"
        },
        "id": "FdnpkP0qnISP",
        "outputId": "05d8cb4e-4528-4db6-9b49-72b9e6a03bad"
      },
      "source": [
        "#check for duplicates\r\n",
        "print(df3.duplicated().sum())\r\n",
        "print(df3.collision_id.duplicated().sum())"
      ],
      "execution_count": 26,
      "outputs": [
        {
          "output_type": "stream",
          "text": [
            "0\n",
            "0\n"
          ],
          "name": "stdout"
        }
      ]
    },
    {
      "cell_type": "code",
      "metadata": {
        "colab": {
          "base_uri": "https://localhost:8080/",
          "height": 550
        },
        "id": "k6l7FR5LnIXV",
        "outputId": "36524ac4-722c-43a4-9cff-45b0c59e7906"
      },
      "source": [
        "df3.describe().T"
      ],
      "execution_count": 27,
      "outputs": [
        {
          "output_type": "execute_result",
          "data": {
            "text/html": [
              "<div>\n",
              "<style scoped>\n",
              "    .dataframe tbody tr th:only-of-type {\n",
              "        vertical-align: middle;\n",
              "    }\n",
              "\n",
              "    .dataframe tbody tr th {\n",
              "        vertical-align: top;\n",
              "    }\n",
              "\n",
              "    .dataframe thead th {\n",
              "        text-align: right;\n",
              "    }\n",
              "</style>\n",
              "<table border=\"1\" class=\"dataframe\">\n",
              "  <thead>\n",
              "    <tr style=\"text-align: right;\">\n",
              "      <th></th>\n",
              "      <th>count</th>\n",
              "      <th>unique</th>\n",
              "      <th>top</th>\n",
              "      <th>freq</th>\n",
              "    </tr>\n",
              "  </thead>\n",
              "  <tbody>\n",
              "    <tr>\n",
              "      <th>crash_date</th>\n",
              "      <td>8869</td>\n",
              "      <td>124</td>\n",
              "      <td>2020-12-11T00:00:00.000</td>\n",
              "      <td>200</td>\n",
              "    </tr>\n",
              "    <tr>\n",
              "      <th>crash_time</th>\n",
              "      <td>8869</td>\n",
              "      <td>1259</td>\n",
              "      <td>0:00</td>\n",
              "      <td>148</td>\n",
              "    </tr>\n",
              "    <tr>\n",
              "      <th>number_of_persons_injured</th>\n",
              "      <td>8869</td>\n",
              "      <td>10</td>\n",
              "      <td>0</td>\n",
              "      <td>6299</td>\n",
              "    </tr>\n",
              "    <tr>\n",
              "      <th>number_of_persons_killed</th>\n",
              "      <td>8869</td>\n",
              "      <td>2</td>\n",
              "      <td>0</td>\n",
              "      <td>8856</td>\n",
              "    </tr>\n",
              "    <tr>\n",
              "      <th>number_of_pedestrians_injured</th>\n",
              "      <td>8869</td>\n",
              "      <td>3</td>\n",
              "      <td>0</td>\n",
              "      <td>8368</td>\n",
              "    </tr>\n",
              "    <tr>\n",
              "      <th>number_of_pedestrians_killed</th>\n",
              "      <td>8869</td>\n",
              "      <td>2</td>\n",
              "      <td>0</td>\n",
              "      <td>8863</td>\n",
              "    </tr>\n",
              "    <tr>\n",
              "      <th>number_of_cyclist_injured</th>\n",
              "      <td>8869</td>\n",
              "      <td>3</td>\n",
              "      <td>0</td>\n",
              "      <td>8527</td>\n",
              "    </tr>\n",
              "    <tr>\n",
              "      <th>number_of_cyclist_killed</th>\n",
              "      <td>8869</td>\n",
              "      <td>2</td>\n",
              "      <td>0</td>\n",
              "      <td>8867</td>\n",
              "    </tr>\n",
              "    <tr>\n",
              "      <th>number_of_motorist_injured</th>\n",
              "      <td>8869</td>\n",
              "      <td>10</td>\n",
              "      <td>0</td>\n",
              "      <td>7127</td>\n",
              "    </tr>\n",
              "    <tr>\n",
              "      <th>number_of_motorist_killed</th>\n",
              "      <td>8869</td>\n",
              "      <td>2</td>\n",
              "      <td>0</td>\n",
              "      <td>8864</td>\n",
              "    </tr>\n",
              "    <tr>\n",
              "      <th>contributing_factor_vehicle_1</th>\n",
              "      <td>8869</td>\n",
              "      <td>48</td>\n",
              "      <td>Unspecified</td>\n",
              "      <td>2472</td>\n",
              "    </tr>\n",
              "    <tr>\n",
              "      <th>collision_id</th>\n",
              "      <td>8869</td>\n",
              "      <td>8869</td>\n",
              "      <td>4381843</td>\n",
              "      <td>1</td>\n",
              "    </tr>\n",
              "    <tr>\n",
              "      <th>vehicle_type_code1</th>\n",
              "      <td>8869</td>\n",
              "      <td>83</td>\n",
              "      <td>Sedan</td>\n",
              "      <td>4328</td>\n",
              "    </tr>\n",
              "    <tr>\n",
              "      <th>latitude</th>\n",
              "      <td>8869</td>\n",
              "      <td>7548</td>\n",
              "      <td>40.6098100</td>\n",
              "      <td>7</td>\n",
              "    </tr>\n",
              "    <tr>\n",
              "      <th>longitude</th>\n",
              "      <td>8869</td>\n",
              "      <td>7313</td>\n",
              "      <td>-73.9532</td>\n",
              "      <td>7</td>\n",
              "    </tr>\n",
              "    <tr>\n",
              "      <th>borough</th>\n",
              "      <td>8869</td>\n",
              "      <td>5</td>\n",
              "      <td>BROOKLYN</td>\n",
              "      <td>2956</td>\n",
              "    </tr>\n",
              "    <tr>\n",
              "      <th>zip_code</th>\n",
              "      <td>8869</td>\n",
              "      <td>359</td>\n",
              "      <td>11207</td>\n",
              "      <td>178</td>\n",
              "    </tr>\n",
              "  </tbody>\n",
              "</table>\n",
              "</div>"
            ],
            "text/plain": [
              "                              count unique                      top  freq\n",
              "crash_date                     8869    124  2020-12-11T00:00:00.000   200\n",
              "crash_time                     8869   1259                     0:00   148\n",
              "number_of_persons_injured      8869     10                        0  6299\n",
              "number_of_persons_killed       8869      2                        0  8856\n",
              "number_of_pedestrians_injured  8869      3                        0  8368\n",
              "number_of_pedestrians_killed   8869      2                        0  8863\n",
              "number_of_cyclist_injured      8869      3                        0  8527\n",
              "number_of_cyclist_killed       8869      2                        0  8867\n",
              "number_of_motorist_injured     8869     10                        0  7127\n",
              "number_of_motorist_killed      8869      2                        0  8864\n",
              "contributing_factor_vehicle_1  8869     48              Unspecified  2472\n",
              "collision_id                   8869   8869                  4381843     1\n",
              "vehicle_type_code1             8869     83                    Sedan  4328\n",
              "latitude                       8869   7548               40.6098100     7\n",
              "longitude                      8869   7313                 -73.9532     7\n",
              "borough                        8869      5                 BROOKLYN  2956\n",
              "zip_code                       8869    359                    11207   178"
            ]
          },
          "metadata": {
            "tags": []
          },
          "execution_count": 27
        }
      ]
    },
    {
      "cell_type": "code",
      "metadata": {
        "colab": {
          "base_uri": "https://localhost:8080/"
        },
        "id": "lHuoScwf3kVc",
        "outputId": "7feb281b-e828-402d-8461-c4b20468ec8e"
      },
      "source": [
        "#observe that all columns have an object datatype\r\n",
        "df3.dtypes"
      ],
      "execution_count": 28,
      "outputs": [
        {
          "output_type": "execute_result",
          "data": {
            "text/plain": [
              "crash_date                       object\n",
              "crash_time                       object\n",
              "number_of_persons_injured        object\n",
              "number_of_persons_killed         object\n",
              "number_of_pedestrians_injured    object\n",
              "number_of_pedestrians_killed     object\n",
              "number_of_cyclist_injured        object\n",
              "number_of_cyclist_killed         object\n",
              "number_of_motorist_injured       object\n",
              "number_of_motorist_killed        object\n",
              "contributing_factor_vehicle_1    object\n",
              "collision_id                     object\n",
              "vehicle_type_code1               object\n",
              "latitude                         object\n",
              "longitude                        object\n",
              "borough                          object\n",
              "zip_code                         object\n",
              "dtype: object"
            ]
          },
          "metadata": {
            "tags": []
          },
          "execution_count": 28
        }
      ]
    },
    {
      "cell_type": "code",
      "metadata": {
        "id": "_S_jP9eQ3s1Z"
      },
      "source": [
        "df3['crash_date'] = pd.to_datetime(df3['crash_date']).dt.date\r\n",
        "df3['crash_time'] = pd.to_datetime(df3['crash_time']).dt.time"
      ],
      "execution_count": 29,
      "outputs": []
    },
    {
      "cell_type": "code",
      "metadata": {
        "colab": {
          "base_uri": "https://localhost:8080/"
        },
        "id": "XGU3IGZTkrcq",
        "outputId": "1e4ab311-918b-4491-e19f-01858621f283"
      },
      "source": [
        "print(df3.shape)\r\n",
        "print(df3.columns)\r\n",
        "df3.dtypes"
      ],
      "execution_count": 30,
      "outputs": [
        {
          "output_type": "stream",
          "text": [
            "(8869, 17)\n",
            "Index(['crash_date', 'crash_time', 'number_of_persons_injured',\n",
            "       'number_of_persons_killed', 'number_of_pedestrians_injured',\n",
            "       'number_of_pedestrians_killed', 'number_of_cyclist_injured',\n",
            "       'number_of_cyclist_killed', 'number_of_motorist_injured',\n",
            "       'number_of_motorist_killed', 'contributing_factor_vehicle_1',\n",
            "       'collision_id', 'vehicle_type_code1', 'latitude', 'longitude',\n",
            "       'borough', 'zip_code'],\n",
            "      dtype='object')\n"
          ],
          "name": "stdout"
        },
        {
          "output_type": "execute_result",
          "data": {
            "text/plain": [
              "crash_date                       object\n",
              "crash_time                       object\n",
              "number_of_persons_injured        object\n",
              "number_of_persons_killed         object\n",
              "number_of_pedestrians_injured    object\n",
              "number_of_pedestrians_killed     object\n",
              "number_of_cyclist_injured        object\n",
              "number_of_cyclist_killed         object\n",
              "number_of_motorist_injured       object\n",
              "number_of_motorist_killed        object\n",
              "contributing_factor_vehicle_1    object\n",
              "collision_id                     object\n",
              "vehicle_type_code1               object\n",
              "latitude                         object\n",
              "longitude                        object\n",
              "borough                          object\n",
              "zip_code                         object\n",
              "dtype: object"
            ]
          },
          "metadata": {
            "tags": []
          },
          "execution_count": 30
        }
      ]
    },
    {
      "cell_type": "code",
      "metadata": {
        "id": "lXetMsZKdD-j"
      },
      "source": [
        "num_columns = ['number_of_persons_injured',\r\n",
        "       'number_of_persons_killed', 'number_of_pedestrians_injured',\r\n",
        "       'number_of_pedestrians_killed', 'number_of_cyclist_injured',\r\n",
        "       'number_of_cyclist_killed', 'number_of_motorist_injured',\r\n",
        "       'number_of_motorist_killed', 'latitude',\r\n",
        "       'longitude']\r\n",
        "dt_columns = ['crash_date', 'crash_time']\r\n",
        "cat_columns = ['contributing_factor_vehicle_1',\r\n",
        "       'collision_id', 'vehicle_type_code1',\r\n",
        "       'borough', 'zip_code']"
      ],
      "execution_count": 31,
      "outputs": []
    },
    {
      "cell_type": "code",
      "metadata": {
        "id": "wn31E0Dvs6B9"
      },
      "source": [
        "df3[num_columns]= df3[num_columns].astype(float)\r\n",
        "df3[cat_columns] = df3[cat_columns].astype('category')"
      ],
      "execution_count": 32,
      "outputs": []
    },
    {
      "cell_type": "code",
      "metadata": {
        "colab": {
          "base_uri": "https://localhost:8080/"
        },
        "id": "Wj-hNjBAngvU",
        "outputId": "2e29b133-1efb-4b16-9769-42cf26623bea"
      },
      "source": [
        "df3.dtypes"
      ],
      "execution_count": 33,
      "outputs": [
        {
          "output_type": "execute_result",
          "data": {
            "text/plain": [
              "crash_date                         object\n",
              "crash_time                         object\n",
              "number_of_persons_injured         float64\n",
              "number_of_persons_killed          float64\n",
              "number_of_pedestrians_injured     float64\n",
              "number_of_pedestrians_killed      float64\n",
              "number_of_cyclist_injured         float64\n",
              "number_of_cyclist_killed          float64\n",
              "number_of_motorist_injured        float64\n",
              "number_of_motorist_killed         float64\n",
              "contributing_factor_vehicle_1    category\n",
              "collision_id                     category\n",
              "vehicle_type_code1               category\n",
              "latitude                          float64\n",
              "longitude                         float64\n",
              "borough                          category\n",
              "zip_code                         category\n",
              "dtype: object"
            ]
          },
          "metadata": {
            "tags": []
          },
          "execution_count": 33
        }
      ]
    },
    {
      "cell_type": "code",
      "metadata": {
        "colab": {
          "base_uri": "https://localhost:8080/"
        },
        "id": "9kYRKpe5nhaR",
        "outputId": "ca2c9a74-427c-4a80-dfc8-3e53c6d086f8"
      },
      "source": [
        "dff = df3.reset_index()\r\n",
        "dff.shape"
      ],
      "execution_count": 34,
      "outputs": [
        {
          "output_type": "execute_result",
          "data": {
            "text/plain": [
              "(8869, 18)"
            ]
          },
          "metadata": {
            "tags": []
          },
          "execution_count": 34
        }
      ]
    },
    {
      "cell_type": "code",
      "metadata": {
        "colab": {
          "base_uri": "https://localhost:8080/",
          "height": 249
        },
        "id": "Wluw8ulu6JhU",
        "outputId": "922a7ff2-1d40-453d-a5db-c72ada4895d3"
      },
      "source": [
        "dff.head()"
      ],
      "execution_count": 35,
      "outputs": [
        {
          "output_type": "execute_result",
          "data": {
            "text/html": [
              "<div>\n",
              "<style scoped>\n",
              "    .dataframe tbody tr th:only-of-type {\n",
              "        vertical-align: middle;\n",
              "    }\n",
              "\n",
              "    .dataframe tbody tr th {\n",
              "        vertical-align: top;\n",
              "    }\n",
              "\n",
              "    .dataframe thead th {\n",
              "        text-align: right;\n",
              "    }\n",
              "</style>\n",
              "<table border=\"1\" class=\"dataframe\">\n",
              "  <thead>\n",
              "    <tr style=\"text-align: right;\">\n",
              "      <th></th>\n",
              "      <th>index</th>\n",
              "      <th>crash_date</th>\n",
              "      <th>crash_time</th>\n",
              "      <th>number_of_persons_injured</th>\n",
              "      <th>number_of_persons_killed</th>\n",
              "      <th>number_of_pedestrians_injured</th>\n",
              "      <th>number_of_pedestrians_killed</th>\n",
              "      <th>number_of_cyclist_injured</th>\n",
              "      <th>number_of_cyclist_killed</th>\n",
              "      <th>number_of_motorist_injured</th>\n",
              "      <th>number_of_motorist_killed</th>\n",
              "      <th>contributing_factor_vehicle_1</th>\n",
              "      <th>collision_id</th>\n",
              "      <th>vehicle_type_code1</th>\n",
              "      <th>latitude</th>\n",
              "      <th>longitude</th>\n",
              "      <th>borough</th>\n",
              "      <th>zip_code</th>\n",
              "    </tr>\n",
              "  </thead>\n",
              "  <tbody>\n",
              "    <tr>\n",
              "      <th>0</th>\n",
              "      <td>2</td>\n",
              "      <td>2021-02-01</td>\n",
              "      <td>15:30:00</td>\n",
              "      <td>0.0</td>\n",
              "      <td>0.0</td>\n",
              "      <td>0.0</td>\n",
              "      <td>0.0</td>\n",
              "      <td>0.0</td>\n",
              "      <td>0.0</td>\n",
              "      <td>0.0</td>\n",
              "      <td>0.0</td>\n",
              "      <td>Unspecified</td>\n",
              "      <td>4388639</td>\n",
              "      <td>Sedan</td>\n",
              "      <td>40.697815</td>\n",
              "      <td>-73.760200</td>\n",
              "      <td>QUEENS</td>\n",
              "      <td>11412</td>\n",
              "    </tr>\n",
              "    <tr>\n",
              "      <th>1</th>\n",
              "      <td>26</td>\n",
              "      <td>2021-01-19</td>\n",
              "      <td>14:40:00</td>\n",
              "      <td>0.0</td>\n",
              "      <td>0.0</td>\n",
              "      <td>0.0</td>\n",
              "      <td>0.0</td>\n",
              "      <td>0.0</td>\n",
              "      <td>0.0</td>\n",
              "      <td>0.0</td>\n",
              "      <td>0.0</td>\n",
              "      <td>Following Too Closely</td>\n",
              "      <td>4385331</td>\n",
              "      <td>Sedan</td>\n",
              "      <td>40.866447</td>\n",
              "      <td>-73.930500</td>\n",
              "      <td>MANHATTAN</td>\n",
              "      <td>10034</td>\n",
              "    </tr>\n",
              "    <tr>\n",
              "      <th>2</th>\n",
              "      <td>28</td>\n",
              "      <td>2021-01-19</td>\n",
              "      <td>08:22:00</td>\n",
              "      <td>1.0</td>\n",
              "      <td>0.0</td>\n",
              "      <td>1.0</td>\n",
              "      <td>0.0</td>\n",
              "      <td>0.0</td>\n",
              "      <td>0.0</td>\n",
              "      <td>0.0</td>\n",
              "      <td>0.0</td>\n",
              "      <td>Pedestrian/Bicyclist/Other Pedestrian Error/Co...</td>\n",
              "      <td>4385270</td>\n",
              "      <td>Bike</td>\n",
              "      <td>40.774708</td>\n",
              "      <td>-73.974690</td>\n",
              "      <td>MANHATTAN</td>\n",
              "      <td>10000</td>\n",
              "    </tr>\n",
              "    <tr>\n",
              "      <th>3</th>\n",
              "      <td>29</td>\n",
              "      <td>2021-01-19</td>\n",
              "      <td>09:20:00</td>\n",
              "      <td>0.0</td>\n",
              "      <td>0.0</td>\n",
              "      <td>0.0</td>\n",
              "      <td>0.0</td>\n",
              "      <td>0.0</td>\n",
              "      <td>0.0</td>\n",
              "      <td>0.0</td>\n",
              "      <td>0.0</td>\n",
              "      <td>Backing Unsafely</td>\n",
              "      <td>4385175</td>\n",
              "      <td>Sedan</td>\n",
              "      <td>40.761047</td>\n",
              "      <td>-73.835180</td>\n",
              "      <td>QUEENS</td>\n",
              "      <td>11354</td>\n",
              "    </tr>\n",
              "    <tr>\n",
              "      <th>4</th>\n",
              "      <td>31</td>\n",
              "      <td>2021-01-16</td>\n",
              "      <td>09:00:00</td>\n",
              "      <td>0.0</td>\n",
              "      <td>0.0</td>\n",
              "      <td>0.0</td>\n",
              "      <td>0.0</td>\n",
              "      <td>0.0</td>\n",
              "      <td>0.0</td>\n",
              "      <td>0.0</td>\n",
              "      <td>0.0</td>\n",
              "      <td>Unsafe Speed</td>\n",
              "      <td>4384644</td>\n",
              "      <td>Sedan</td>\n",
              "      <td>40.610340</td>\n",
              "      <td>-74.073494</td>\n",
              "      <td>STATEN ISLAND</td>\n",
              "      <td>10305</td>\n",
              "    </tr>\n",
              "  </tbody>\n",
              "</table>\n",
              "</div>"
            ],
            "text/plain": [
              "   index  crash_date crash_time  ...  longitude        borough  zip_code\n",
              "0      2  2021-02-01   15:30:00  ... -73.760200         QUEENS     11412\n",
              "1     26  2021-01-19   14:40:00  ... -73.930500      MANHATTAN     10034\n",
              "2     28  2021-01-19   08:22:00  ... -73.974690      MANHATTAN     10000\n",
              "3     29  2021-01-19   09:20:00  ... -73.835180         QUEENS     11354\n",
              "4     31  2021-01-16   09:00:00  ... -74.073494  STATEN ISLAND     10305\n",
              "\n",
              "[5 rows x 18 columns]"
            ]
          },
          "metadata": {
            "tags": []
          },
          "execution_count": 35
        }
      ]
    },
    {
      "cell_type": "code",
      "metadata": {
        "colab": {
          "base_uri": "https://localhost:8080/",
          "height": 575
        },
        "id": "Wd-HgSwF6Nzn",
        "outputId": "aa9b38fb-e32e-4de0-c4cc-ee289807815b"
      },
      "source": [
        "#range of people killed or injured seems true, thus no outliers from below plot\r\n",
        "dff.boxplot(column= ['number_of_persons_injured',\r\n",
        "       'number_of_persons_killed', 'number_of_pedestrians_injured',\r\n",
        "       'number_of_pedestrians_killed', 'number_of_cyclist_injured',\r\n",
        "       'number_of_cyclist_killed', 'number_of_motorist_injured',\r\n",
        "       'number_of_motorist_killed'], rot = 80, figsize=(10,7))\r\n",
        "plt.show()"
      ],
      "execution_count": 36,
      "outputs": [
        {
          "output_type": "display_data",
          "data": {
            "image/png": "[encoded data removed]",
            "text/plain": [
              "<Figure size 720x504 with 1 Axes>"
            ]
          },
          "metadata": {
            "tags": [],
            "needs_background": "light"
          }
        }
      ]
    },
    {
      "cell_type": "code",
      "metadata": {
        "colab": {
          "base_uri": "https://localhost:8080/"
        },
        "id": "iMAb8P2y_VSz",
        "outputId": "95c0aa00-582c-4e1c-ad31-a77eeb80a12d"
      },
      "source": [
        "dff['contributing_factor_vehicle_1'].unique()"
      ],
      "execution_count": 37,
      "outputs": [
        {
          "output_type": "execute_result",
          "data": {
            "text/plain": [
              "['Unspecified', 'Following Too Closely', 'Pedestrian/Bicyclist/Other Pedestrian Error/C..., 'Backing Unsafely', 'Unsafe Speed', ..., 'Headlights Defective', 'Traffic Control Device Improper/Non-Working', 'Other Electronic Device', 'Tow Hitch Defective', 'Shoulders Defective/Improper']\n",
              "Length: 48\n",
              "Categories (48, object): ['Unspecified', 'Following Too Closely',\n",
              "                          'Pedestrian/Bicyclist/Other Pedestrian Error/C..., 'Backing Unsafely', ...,\n",
              "                          'Traffic Control Device Improper/Non-Working', 'Other Electronic Device', 'Tow Hitch Defective',\n",
              "                          'Shoulders Defective/Improper']"
            ]
          },
          "metadata": {
            "tags": []
          },
          "execution_count": 37
        }
      ]
    },
    {
      "cell_type": "code",
      "metadata": {
        "colab": {
          "base_uri": "https://localhost:8080/"
        },
        "id": "us85FvtQ_4Kq",
        "outputId": "4901b8a6-9623-4226-c7b1-f72ab422172d"
      },
      "source": [
        "print(dff[ 'vehicle_type_code1'].unique())"
      ],
      "execution_count": 38,
      "outputs": [
        {
          "output_type": "stream",
          "text": [
            "['Sedan', 'Bike', 'Bus', 'Flat Bed', 'Station Wagon/Sport Utility Vehicle', ..., 'util', 'Unk', 'MARKED VAN', 'SANITATION', 'SNOW PLOW']\n",
            "Length: 83\n",
            "Categories (83, object): ['Sedan', 'Bike', 'Bus', 'Flat Bed', ..., 'Unk', 'MARKED VAN', 'SANITATION',\n",
            "                          'SNOW PLOW']\n"
          ],
          "name": "stdout"
        }
      ]
    }
  ]
}
