{
  "nbformat": 4,
  "nbformat_minor": 0,
  "metadata": {
    "colab": {
      "name": "Modelling_Springboard_Capstone_two_project",
      "provenance": [],
      "collapsed_sections": [],
      "authorship_tag": "ABX9TyPZ3sT7ZwJEhIr9bOBLPegb",
      "include_colab_link": true
    },
    "kernelspec": {
      "display_name": "Python 3",
      "name": "python3"
    },
    "language_info": {
      "name": "python"
    }
  },
  "cells": [
    {
      "cell_type": "markdown",
      "metadata": {
        "id": "view-in-github",
        "colab_type": "text"
      },
      "source": [
        "<a href=\"https://colab.research.google.com/github/Tobsam237/Springboard_Project_Capstone2/blob/main/Modelling_Springboard_Capstone_two_project.ipynb\" target=\"_parent\"><img src=\"https://colab.research.google.com/assets/colab-badge.svg\" alt=\"Open In Colab\"/></a>"
      ]
    },
    {
      "cell_type": "markdown",
      "metadata": {
        "id": "Wpwk90EloYI1"
      },
      "source": [
        "##Capstone Project Two: Springboard Data Science Career Track"
      ]
    },
    {
      "cell_type": "markdown",
      "metadata": {
        "id": "l_4q7PA5Z1S1"
      },
      "source": [
        "#Predicting number of accidents: Modelling"
      ]
    },
    {
      "cell_type": "code",
      "metadata": {
        "colab": {
          "resources": {
            "http://localhost:8080/nbextensions/google.colab/files.js": {
              "data": "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",
              "ok": true,
              "headers": [
                [
                  "content-type",
                  "application/javascript"
                ]
              ],
              "status": 200,
              "status_text": ""
            }
          },
          "base_uri": "https://localhost:8080/",
          "height": 73
        },
        "id": "cqQtU43pZysZ",
        "outputId": "4523920e-6919-4b88-cce2-7a499bb19458"
      },
      "source": [
        "#Import neccessary packages and upload data from previous pre-processing procedure\n",
        "import pandas as pd\n",
        "import numpy as np\n",
        "from google.colab import files\n",
        "x = files.upload()"
      ],
      "execution_count": 2,
      "outputs": [
        {
          "output_type": "display_data",
          "data": {
            "text/html": [
              "\n",
              "     <input type=\"file\" id=\"files-0942a7e6-01cd-4d35-bc00-62dfad9681f6\" name=\"files[]\" multiple disabled\n",
              "        style=\"border:none\" />\n",
              "     <output id=\"result-0942a7e6-01cd-4d35-bc00-62dfad9681f6\">\n",
              "      Upload widget is only available when the cell has been executed in the\n",
              "      current browser session. Please rerun this cell to enable.\n",
              "      </output>\n",
              "      <script src=\"/nbextensions/google.colab/files.js\"></script> "
            ],
            "text/plain": [
              "<IPython.core.display.HTML object>"
            ]
          },
          "metadata": {
            "tags": []
          }
        },
        {
          "output_type": "stream",
          "text": [
            "Saving df1 to df1\n"
          ],
          "name": "stdout"
        }
      ]
    },
    {
      "cell_type": "code",
      "metadata": {
        "colab": {
          "base_uri": "https://localhost:8080/",
          "height": 203
        },
        "id": "rYw_pAZTwwHh",
        "outputId": "391e4be9-6078-43b0-a6f9-1488c89b3d92"
      },
      "source": [
        "df1 = pd.read_csv('df1', index_col='Unnamed: 0')\n",
        "df1.head()"
      ],
      "execution_count": 3,
      "outputs": [
        {
          "output_type": "execute_result",
          "data": {
            "text/html": [
              "<div>\n",
              "<style scoped>\n",
              "    .dataframe tbody tr th:only-of-type {\n",
              "        vertical-align: middle;\n",
              "    }\n",
              "\n",
              "    .dataframe tbody tr th {\n",
              "        vertical-align: top;\n",
              "    }\n",
              "\n",
              "    .dataframe thead th {\n",
              "        text-align: right;\n",
              "    }\n",
              "</style>\n",
              "<table border=\"1\" class=\"dataframe\">\n",
              "  <thead>\n",
              "    <tr style=\"text-align: right;\">\n",
              "      <th></th>\n",
              "      <th>ds</th>\n",
              "      <th>y</th>\n",
              "      <th>borough_BRONX</th>\n",
              "      <th>borough_BROOKLYN</th>\n",
              "      <th>borough_MANHATTAN</th>\n",
              "      <th>borough_QUEENS</th>\n",
              "      <th>borough_STATEN ISLAND</th>\n",
              "    </tr>\n",
              "  </thead>\n",
              "  <tbody>\n",
              "    <tr>\n",
              "      <th>0</th>\n",
              "      <td>2020-05-11</td>\n",
              "      <td>160</td>\n",
              "      <td>0</td>\n",
              "      <td>0</td>\n",
              "      <td>0</td>\n",
              "      <td>1</td>\n",
              "      <td>0</td>\n",
              "    </tr>\n",
              "    <tr>\n",
              "      <th>1</th>\n",
              "      <td>2020-05-12</td>\n",
              "      <td>175</td>\n",
              "      <td>0</td>\n",
              "      <td>0</td>\n",
              "      <td>0</td>\n",
              "      <td>1</td>\n",
              "      <td>0</td>\n",
              "    </tr>\n",
              "    <tr>\n",
              "      <th>2</th>\n",
              "      <td>2020-05-13</td>\n",
              "      <td>184</td>\n",
              "      <td>0</td>\n",
              "      <td>1</td>\n",
              "      <td>0</td>\n",
              "      <td>0</td>\n",
              "      <td>0</td>\n",
              "    </tr>\n",
              "    <tr>\n",
              "      <th>3</th>\n",
              "      <td>2020-05-14</td>\n",
              "      <td>154</td>\n",
              "      <td>0</td>\n",
              "      <td>0</td>\n",
              "      <td>1</td>\n",
              "      <td>0</td>\n",
              "      <td>0</td>\n",
              "    </tr>\n",
              "    <tr>\n",
              "      <th>4</th>\n",
              "      <td>2020-05-15</td>\n",
              "      <td>220</td>\n",
              "      <td>0</td>\n",
              "      <td>0</td>\n",
              "      <td>1</td>\n",
              "      <td>0</td>\n",
              "      <td>0</td>\n",
              "    </tr>\n",
              "  </tbody>\n",
              "</table>\n",
              "</div>"
            ],
            "text/plain": [
              "           ds    y  ...  borough_QUEENS  borough_STATEN ISLAND\n",
              "0  2020-05-11  160  ...               1                      0\n",
              "1  2020-05-12  175  ...               1                      0\n",
              "2  2020-05-13  184  ...               0                      0\n",
              "3  2020-05-14  154  ...               0                      0\n",
              "4  2020-05-15  220  ...               0                      0\n",
              "\n",
              "[5 rows x 7 columns]"
            ]
          },
          "metadata": {
            "tags": []
          },
          "execution_count": 3
        }
      ]
    },
    {
      "cell_type": "code",
      "metadata": {
        "id": "QH4ijr07xUQ0"
      },
      "source": [
        "#lets split df to prep for modelling(NB: we cant use sklearn train_test_split to avoid random selection, so we split by indexing)\n",
        "df_train = df1[:int(df1.shape[0]*0.7)]\n",
        "df_test = df1[int(df1.shape[0]*0.7):]"
      ],
      "execution_count": 4,
      "outputs": []
    },
    {
      "cell_type": "markdown",
      "metadata": {
        "id": "fMXNuOBxq8Lz"
      },
      "source": [
        "##Applying Machine Learning Models:"
      ]
    },
    {
      "cell_type": "markdown",
      "metadata": {
        "id": "qTSoQUu_rXzQ"
      },
      "source": [
        "**a) Using FB Prophet:**"
      ]
    },
    {
      "cell_type": "code",
      "metadata": {
        "colab": {
          "base_uri": "https://localhost:8080/"
        },
        "id": "tgGUZ2-GxUUV",
        "outputId": "a187b43e-e802-4a40-a161-32abf2bac75e"
      },
      "source": [
        "#Lets forecast accident_counts using fbprophet\n",
        "from fbprophet import Prophet\n",
        "m = Prophet()\n",
        "m.add_regressor('borough_BRONX')\n",
        "m.add_regressor('borough_BROOKLYN')\n",
        "m.add_regressor('borough_MANHATTAN')\n",
        "m.add_regressor('borough_QUEENS')\n",
        "m.add_regressor('borough_STATEN ISLAND')\n",
        "m.fit(df_train)\n"
      ],
      "execution_count": 5,
      "outputs": [
        {
          "output_type": "stream",
          "text": [
            "INFO:numexpr.utils:NumExpr defaulting to 2 threads.\n",
            "INFO:fbprophet:Disabling yearly seasonality. Run prophet with yearly_seasonality=True to override this.\n",
            "INFO:fbprophet:Disabling daily seasonality. Run prophet with daily_seasonality=True to override this.\n"
          ],
          "name": "stderr"
        },
        {
          "output_type": "execute_result",
          "data": {
            "text/plain": [
              "<fbprophet.forecaster.Prophet at 0x7ff4be796790>"
            ]
          },
          "metadata": {
            "tags": []
          },
          "execution_count": 5
        }
      ]
    },
    {
      "cell_type": "code",
      "metadata": {
        "id": "abCcnDwpFvFu"
      },
      "source": [
        "forecast = m.predict(df_test.drop(columns='y'))"
      ],
      "execution_count": 6,
      "outputs": []
    },
    {
      "cell_type": "code",
      "metadata": {
        "colab": {
          "base_uri": "https://localhost:8080/",
          "height": 441
        },
        "id": "vPkHROHEFvSQ",
        "outputId": "9f6846fc-5748-43e7-c488-e2839962e5ac"
      },
      "source": [
        "#plot predictions\n",
        "import matplotlib.pyplot as plt\n",
        "\n",
        "plt = m.plot(forecast)\n",
        "#df1[['ds', 'y']].set_index('ds').plot(color='red')\n",
        "plt.show()"
      ],
      "execution_count": 7,
      "outputs": [
        {
          "output_type": "display_data",
          "data": {
            "image/png": "[encoded data removed]",
            "text/plain": [
              "<Figure size 720x432 with 1 Axes>"
            ]
          },
          "metadata": {
            "tags": []
          }
        }
      ]
    },
    {
      "cell_type": "code",
      "metadata": {
        "colab": {
          "base_uri": "https://localhost:8080/",
          "height": 1000
        },
        "id": "wu802ltqnr3E",
        "outputId": "674e3caf-8f37-413c-8d66-6528a6180142"
      },
      "source": [
        "m.plot_components(forecast)"
      ],
      "execution_count": 8,
      "outputs": [
        {
          "output_type": "execute_result",
          "data": {
            "image/png": "[encoded data removed]",
            "text/plain": [
              "<Figure size 648x648 with 3 Axes>"
            ]
          },
          "metadata": {
            "tags": []
          },
          "execution_count": 8
        },
        {
          "output_type": "display_data",
          "data": {
            "image/png": "[encoded data removed]",
            "text/plain": [
              "<Figure size 648x648 with 3 Axes>"
            ]
          },
          "metadata": {
            "tags": []
          }
        }
      ]
    },
    {
      "cell_type": "code",
      "metadata": {
        "colab": {
          "base_uri": "https://localhost:8080/"
        },
        "id": "PZdVrXoApNsl",
        "outputId": "1beff60e-f27d-43a8-eb80-eff8aad21bfd"
      },
      "source": [
        "forecast['yhat']"
      ],
      "execution_count": 9,
      "outputs": [
        {
          "output_type": "execute_result",
          "data": {
            "text/plain": [
              "0      216.580333\n",
              "1      231.480687\n",
              "2      226.549760\n",
              "3      223.082939\n",
              "4      246.447530\n",
              "          ...    \n",
              "98     133.867958\n",
              "99     145.780367\n",
              "100    137.738733\n",
              "101    134.271911\n",
              "102    155.413511\n",
              "Name: yhat, Length: 103, dtype: float64"
            ]
          },
          "metadata": {
            "tags": []
          },
          "execution_count": 9
        }
      ]
    },
    {
      "cell_type": "code",
      "metadata": {
        "colab": {
          "base_uri": "https://localhost:8080/"
        },
        "id": "WILzkkD_pNxO",
        "outputId": "f8c509c1-37be-40c7-a6c5-b2b115ab7bf8"
      },
      "source": [
        "#Evaluating fbprohet predictions\n",
        "from sklearn.metrics import mean_absolute_error\n",
        "mae = mean_absolute_error(forecast['yhat'], df_test['y'])\n",
        "mse = mean_squared_error(forecast['yhat'], df_test['y'])\n",
        "rmse = np.sqrt(mse)\n",
        "print(\"Mean Absolute value for fbprophet predictions:\" + str(mae))\n",
        "print(\"Root Mean Square Error for fbprophet predictions:\" + str(rmse))"
      ],
      "execution_count": 37,
      "outputs": [
        {
          "output_type": "stream",
          "text": [
            "Mean Absolute value for fbprophet predictions:53.27483276166276\n",
            "Root Mean Square Error for fbprophet predictions:63.67667735501835\n"
          ],
          "name": "stdout"
        }
      ]
    },
    {
      "cell_type": "markdown",
      "metadata": {
        "id": "I8rPmfbCsYhS"
      },
      "source": [
        "##**Prep datetime feature so we can pass on other ML models**"
      ]
    },
    {
      "cell_type": "markdown",
      "metadata": {
        "id": "RVNUAix9skve"
      },
      "source": [
        "Observe that the the date_time constituents have great effect in predicting accidents, so they cannot be dropped. \n",
        "<br>Accidents counts are greater on rush hours and weekends."
      ]
    },
    {
      "cell_type": "code",
      "metadata": {
        "colab": {
          "base_uri": "https://localhost:8080/",
          "height": 270
        },
        "id": "D4CwJCUXFVak",
        "outputId": "889ae81b-497f-42f0-bd88-e2a506a6c40c"
      },
      "source": [
        "#lets break apart the date and get the year, month, week, dayofweek\n",
        "df1['ds'] = pd.to_datetime(df1['ds'])\n",
        "\n",
        "df2 = df1\n",
        "df2['year'] = df2['ds'].dt.year\n",
        "df2['month'] = df2['ds'].dt.month\n",
        "df2['week'] = df2['ds'].dt.week\n",
        "df2['day'] = df2['ds'].dt.day\n",
        "df2['dayofweek'] = df2['ds'].dt.dayofweek\n",
        "\n",
        "df2.head()"
      ],
      "execution_count": 11,
      "outputs": [
        {
          "output_type": "stream",
          "text": [
            "/usr/local/lib/python3.7/dist-packages/ipykernel_launcher.py:7: FutureWarning:\n",
            "\n",
            "Series.dt.weekofyear and Series.dt.week have been deprecated.  Please use Series.dt.isocalendar().week instead.\n",
            "\n"
          ],
          "name": "stderr"
        },
        {
          "output_type": "execute_result",
          "data": {
            "text/html": [
              "<div>\n",
              "<style scoped>\n",
              "    .dataframe tbody tr th:only-of-type {\n",
              "        vertical-align: middle;\n",
              "    }\n",
              "\n",
              "    .dataframe tbody tr th {\n",
              "        vertical-align: top;\n",
              "    }\n",
              "\n",
              "    .dataframe thead th {\n",
              "        text-align: right;\n",
              "    }\n",
              "</style>\n",
              "<table border=\"1\" class=\"dataframe\">\n",
              "  <thead>\n",
              "    <tr style=\"text-align: right;\">\n",
              "      <th></th>\n",
              "      <th>ds</th>\n",
              "      <th>y</th>\n",
              "      <th>borough_BRONX</th>\n",
              "      <th>borough_BROOKLYN</th>\n",
              "      <th>borough_MANHATTAN</th>\n",
              "      <th>borough_QUEENS</th>\n",
              "      <th>borough_STATEN ISLAND</th>\n",
              "      <th>year</th>\n",
              "      <th>month</th>\n",
              "      <th>week</th>\n",
              "      <th>day</th>\n",
              "      <th>dayofweek</th>\n",
              "    </tr>\n",
              "  </thead>\n",
              "  <tbody>\n",
              "    <tr>\n",
              "      <th>0</th>\n",
              "      <td>2020-05-11</td>\n",
              "      <td>160</td>\n",
              "      <td>0</td>\n",
              "      <td>0</td>\n",
              "      <td>0</td>\n",
              "      <td>1</td>\n",
              "      <td>0</td>\n",
              "      <td>2020</td>\n",
              "      <td>5</td>\n",
              "      <td>20</td>\n",
              "      <td>11</td>\n",
              "      <td>0</td>\n",
              "    </tr>\n",
              "    <tr>\n",
              "      <th>1</th>\n",
              "      <td>2020-05-12</td>\n",
              "      <td>175</td>\n",
              "      <td>0</td>\n",
              "      <td>0</td>\n",
              "      <td>0</td>\n",
              "      <td>1</td>\n",
              "      <td>0</td>\n",
              "      <td>2020</td>\n",
              "      <td>5</td>\n",
              "      <td>20</td>\n",
              "      <td>12</td>\n",
              "      <td>1</td>\n",
              "    </tr>\n",
              "    <tr>\n",
              "      <th>2</th>\n",
              "      <td>2020-05-13</td>\n",
              "      <td>184</td>\n",
              "      <td>0</td>\n",
              "      <td>1</td>\n",
              "      <td>0</td>\n",
              "      <td>0</td>\n",
              "      <td>0</td>\n",
              "      <td>2020</td>\n",
              "      <td>5</td>\n",
              "      <td>20</td>\n",
              "      <td>13</td>\n",
              "      <td>2</td>\n",
              "    </tr>\n",
              "    <tr>\n",
              "      <th>3</th>\n",
              "      <td>2020-05-14</td>\n",
              "      <td>154</td>\n",
              "      <td>0</td>\n",
              "      <td>0</td>\n",
              "      <td>1</td>\n",
              "      <td>0</td>\n",
              "      <td>0</td>\n",
              "      <td>2020</td>\n",
              "      <td>5</td>\n",
              "      <td>20</td>\n",
              "      <td>14</td>\n",
              "      <td>3</td>\n",
              "    </tr>\n",
              "    <tr>\n",
              "      <th>4</th>\n",
              "      <td>2020-05-15</td>\n",
              "      <td>220</td>\n",
              "      <td>0</td>\n",
              "      <td>0</td>\n",
              "      <td>1</td>\n",
              "      <td>0</td>\n",
              "      <td>0</td>\n",
              "      <td>2020</td>\n",
              "      <td>5</td>\n",
              "      <td>20</td>\n",
              "      <td>15</td>\n",
              "      <td>4</td>\n",
              "    </tr>\n",
              "  </tbody>\n",
              "</table>\n",
              "</div>"
            ],
            "text/plain": [
              "          ds    y  borough_BRONX  borough_BROOKLYN  ...  month  week  day  dayofweek\n",
              "0 2020-05-11  160              0                 0  ...      5    20   11          0\n",
              "1 2020-05-12  175              0                 0  ...      5    20   12          1\n",
              "2 2020-05-13  184              0                 1  ...      5    20   13          2\n",
              "3 2020-05-14  154              0                 0  ...      5    20   14          3\n",
              "4 2020-05-15  220              0                 0  ...      5    20   15          4\n",
              "\n",
              "[5 rows x 12 columns]"
            ]
          },
          "metadata": {
            "tags": []
          },
          "execution_count": 11
        }
      ]
    },
    {
      "cell_type": "code",
      "metadata": {
        "colab": {
          "base_uri": "https://localhost:8080/",
          "height": 312
        },
        "id": "7WkuypIPEOrV",
        "outputId": "0fc7277b-0a4a-4af6-faf4-b7e69e6a4e05"
      },
      "source": [
        "#lets explore our dates a bit\n",
        "\n",
        "df2.groupby('year').size().plot(kind='bar')"
      ],
      "execution_count": 12,
      "outputs": [
        {
          "output_type": "execute_result",
          "data": {
            "text/plain": [
              "<matplotlib.axes._subplots.AxesSubplot at 0x7ff4a080d3d0>"
            ]
          },
          "metadata": {
            "tags": []
          },
          "execution_count": 12
        },
        {
          "output_type": "display_data",
          "data": {
            "image/png": "[encoded data removed]",
            "text/plain": [
              "<Figure size 432x288 with 1 Axes>"
            ]
          },
          "metadata": {
            "tags": [],
            "needs_background": "light"
          }
        }
      ]
    },
    {
      "cell_type": "code",
      "metadata": {
        "colab": {
          "base_uri": "https://localhost:8080/",
          "height": 299
        },
        "id": "MMZun9u6IFzA",
        "outputId": "1586b0d6-f627-4230-874d-a0d3b4c639a4"
      },
      "source": [
        "df2.groupby('month').size().plot(kind='bar')"
      ],
      "execution_count": 13,
      "outputs": [
        {
          "output_type": "execute_result",
          "data": {
            "text/plain": [
              "<matplotlib.axes._subplots.AxesSubplot at 0x7ff4a07eb210>"
            ]
          },
          "metadata": {
            "tags": []
          },
          "execution_count": 13
        },
        {
          "output_type": "display_data",
          "data": {
            "image/png": "[encoded data removed]",
            "text/plain": [
              "<Figure size 432x288 with 1 Axes>"
            ]
          },
          "metadata": {
            "tags": [],
            "needs_background": "light"
          }
        }
      ]
    },
    {
      "cell_type": "code",
      "metadata": {
        "colab": {
          "base_uri": "https://localhost:8080/",
          "height": 293
        },
        "id": "inibNBpOIF1j",
        "outputId": "d14d3a14-7b83-45c8-fce2-f562d99335eb"
      },
      "source": [
        "df2.groupby('dayofweek').size().plot(kind='bar', )"
      ],
      "execution_count": 14,
      "outputs": [
        {
          "output_type": "execute_result",
          "data": {
            "text/plain": [
              "<matplotlib.axes._subplots.AxesSubplot at 0x7ff4a070d990>"
            ]
          },
          "metadata": {
            "tags": []
          },
          "execution_count": 14
        },
        {
          "output_type": "display_data",
          "data": {
            "image/png": "[encoded data removed]",
            "text/plain": [
              "<Figure size 432x288 with 1 Axes>"
            ]
          },
          "metadata": {
            "tags": [],
            "needs_background": "light"
          }
        }
      ]
    },
    {
      "cell_type": "markdown",
      "metadata": {
        "id": "NsmdCb3PwdpX"
      },
      "source": [
        "Observe from the above EDA that our dates are evenly distributed across dayofweek so we can be sure there are no size biases in our dates.<br>\n",
        "Hence, we go ahead and shuffle our dataset since our datetime have been converted to features as order becomes irrelevant to our model in predicting the counts of accidents. "
      ]
    },
    {
      "cell_type": "code",
      "metadata": {
        "colab": {
          "base_uri": "https://localhost:8080/",
          "height": 203
        },
        "id": "eZPUeKjOIF6O",
        "outputId": "f6a59ca8-c053-4301-a815-8fe2c12e2d1a"
      },
      "source": [
        "#let's shuffle df2 to distribute ordered dates across randomly.\n",
        "df3 = df2.sample(n=len(df2), random_state = 42).reset_index( drop= True)\n",
        "df3.head()"
      ],
      "execution_count": 15,
      "outputs": [
        {
          "output_type": "execute_result",
          "data": {
            "text/html": [
              "<div>\n",
              "<style scoped>\n",
              "    .dataframe tbody tr th:only-of-type {\n",
              "        vertical-align: middle;\n",
              "    }\n",
              "\n",
              "    .dataframe tbody tr th {\n",
              "        vertical-align: top;\n",
              "    }\n",
              "\n",
              "    .dataframe thead th {\n",
              "        text-align: right;\n",
              "    }\n",
              "</style>\n",
              "<table border=\"1\" class=\"dataframe\">\n",
              "  <thead>\n",
              "    <tr style=\"text-align: right;\">\n",
              "      <th></th>\n",
              "      <th>ds</th>\n",
              "      <th>y</th>\n",
              "      <th>borough_BRONX</th>\n",
              "      <th>borough_BROOKLYN</th>\n",
              "      <th>borough_MANHATTAN</th>\n",
              "      <th>borough_QUEENS</th>\n",
              "      <th>borough_STATEN ISLAND</th>\n",
              "      <th>year</th>\n",
              "      <th>month</th>\n",
              "      <th>week</th>\n",
              "      <th>day</th>\n",
              "      <th>dayofweek</th>\n",
              "    </tr>\n",
              "  </thead>\n",
              "  <tbody>\n",
              "    <tr>\n",
              "      <th>0</th>\n",
              "      <td>2021-03-29</td>\n",
              "      <td>218</td>\n",
              "      <td>0</td>\n",
              "      <td>1</td>\n",
              "      <td>0</td>\n",
              "      <td>0</td>\n",
              "      <td>0</td>\n",
              "      <td>2021</td>\n",
              "      <td>3</td>\n",
              "      <td>13</td>\n",
              "      <td>29</td>\n",
              "      <td>0</td>\n",
              "    </tr>\n",
              "    <tr>\n",
              "      <th>1</th>\n",
              "      <td>2020-09-04</td>\n",
              "      <td>337</td>\n",
              "      <td>0</td>\n",
              "      <td>1</td>\n",
              "      <td>0</td>\n",
              "      <td>0</td>\n",
              "      <td>0</td>\n",
              "      <td>2020</td>\n",
              "      <td>9</td>\n",
              "      <td>36</td>\n",
              "      <td>4</td>\n",
              "      <td>4</td>\n",
              "    </tr>\n",
              "    <tr>\n",
              "      <th>2</th>\n",
              "      <td>2020-09-01</td>\n",
              "      <td>311</td>\n",
              "      <td>1</td>\n",
              "      <td>0</td>\n",
              "      <td>0</td>\n",
              "      <td>0</td>\n",
              "      <td>0</td>\n",
              "      <td>2020</td>\n",
              "      <td>9</td>\n",
              "      <td>36</td>\n",
              "      <td>1</td>\n",
              "      <td>1</td>\n",
              "    </tr>\n",
              "    <tr>\n",
              "      <th>3</th>\n",
              "      <td>2020-06-22</td>\n",
              "      <td>268</td>\n",
              "      <td>0</td>\n",
              "      <td>0</td>\n",
              "      <td>0</td>\n",
              "      <td>1</td>\n",
              "      <td>0</td>\n",
              "      <td>2020</td>\n",
              "      <td>6</td>\n",
              "      <td>26</td>\n",
              "      <td>22</td>\n",
              "      <td>0</td>\n",
              "    </tr>\n",
              "    <tr>\n",
              "      <th>4</th>\n",
              "      <td>2020-09-14</td>\n",
              "      <td>256</td>\n",
              "      <td>1</td>\n",
              "      <td>0</td>\n",
              "      <td>0</td>\n",
              "      <td>0</td>\n",
              "      <td>0</td>\n",
              "      <td>2020</td>\n",
              "      <td>9</td>\n",
              "      <td>38</td>\n",
              "      <td>14</td>\n",
              "      <td>0</td>\n",
              "    </tr>\n",
              "  </tbody>\n",
              "</table>\n",
              "</div>"
            ],
            "text/plain": [
              "          ds    y  borough_BRONX  borough_BROOKLYN  ...  month  week  day  dayofweek\n",
              "0 2021-03-29  218              0                 1  ...      3    13   29          0\n",
              "1 2020-09-04  337              0                 1  ...      9    36    4          4\n",
              "2 2020-09-01  311              1                 0  ...      9    36    1          1\n",
              "3 2020-06-22  268              0                 0  ...      6    26   22          0\n",
              "4 2020-09-14  256              1                 0  ...      9    38   14          0\n",
              "\n",
              "[5 rows x 12 columns]"
            ]
          },
          "metadata": {
            "tags": []
          },
          "execution_count": 15
        }
      ]
    },
    {
      "cell_type": "code",
      "metadata": {
        "id": "um0c2S-2OycJ"
      },
      "source": [
        "X = df3.drop(columns= ['ds', 'y'], axis=1)\n",
        "y = df3.y"
      ],
      "execution_count": 16,
      "outputs": []
    },
    {
      "cell_type": "code",
      "metadata": {
        "id": "1n4fR0XcOypM"
      },
      "source": [
        "#split data into train and validation data\n",
        "from sklearn.model_selection import train_test_split\n",
        "X_train, X_test, y_train, y_test = train_test_split(X, y, test_size=0.3, random_state=42)"
      ],
      "execution_count": 17,
      "outputs": []
    },
    {
      "cell_type": "markdown",
      "metadata": {
        "id": "fcAluHRQybAe"
      },
      "source": [
        "**b) RandomForest Regressor**"
      ]
    },
    {
      "cell_type": "code",
      "metadata": {
        "colab": {
          "base_uri": "https://localhost:8080/"
        },
        "id": "w1W1IaWgOysh",
        "outputId": "2f2087b5-2fe3-42e8-9f8a-1e6e4e2727cb"
      },
      "source": [
        "from sklearn.ensemble import RandomForestRegressor\n",
        "rf = RandomForestRegressor()\n",
        "rf.fit(X_train, y_train)\n",
        "\n",
        "rf_forecast = rf.predict(X_test)\n",
        "rf.score(X_test, y_test)"
      ],
      "execution_count": 38,
      "outputs": [
        {
          "output_type": "execute_result",
          "data": {
            "text/plain": [
              "0.5553708466130127"
            ]
          },
          "metadata": {
            "tags": []
          },
          "execution_count": 38
        }
      ]
    },
    {
      "cell_type": "code",
      "metadata": {
        "colab": {
          "base_uri": "https://localhost:8080/"
        },
        "id": "lEqkz79ICcBf",
        "outputId": "ad773f95-48e3-4805-d321-6ad9e428baff"
      },
      "source": [
        "#Evaluating RandomForestRegressor predictions\n",
        "from sklearn.metrics import mean_squared_error\n",
        "mae = mean_absolute_error(rf_forecast, y_test)\n",
        "mse = mean_squared_error(rf_forecast, y_test)\n",
        "rmse = np.sqrt(mse)\n",
        "print(\"Mean Absolute Error for RandomForest predictions:\" + str(mae))\n",
        "print(\"Root Mean Square Error for RandomForest predictions:\" + str(rmse))"
      ],
      "execution_count": 40,
      "outputs": [
        {
          "output_type": "stream",
          "text": [
            "Mean Absolute Error for RandomForest predictions:21.49650485436893\n",
            "Root Mean Square Error for RandomForest predictions:28.75534574192882\n"
          ],
          "name": "stdout"
        }
      ]
    },
    {
      "cell_type": "markdown",
      "metadata": {
        "id": "suzRuBcv-BmQ"
      },
      "source": [
        "**c) Using LinearRegression Model**"
      ]
    },
    {
      "cell_type": "code",
      "metadata": {
        "colab": {
          "base_uri": "https://localhost:8080/"
        },
        "id": "kJFMzVin7QEL",
        "outputId": "f1eadc41-ee3d-4704-f5d2-e32149d72371"
      },
      "source": [
        "from sklearn.linear_model import LinearRegression\n",
        "lr = LinearRegression()\n",
        "lr.fit(X_train, y_train)\n",
        "\n",
        "lr_forecast = rf.predict(X_test)\n",
        "lr.score(X_test, y_test)"
      ],
      "execution_count": 25,
      "outputs": [
        {
          "output_type": "execute_result",
          "data": {
            "text/plain": [
              "0.0433769213227585"
            ]
          },
          "metadata": {
            "tags": []
          },
          "execution_count": 25
        }
      ]
    },
    {
      "cell_type": "markdown",
      "metadata": {
        "id": "hxY4QOth-Pws"
      },
      "source": [
        "**Linearity Rule doesn't hold true:** Observe that our predictions does not follow a linear model as relationship between datapoints are not Linear.\n",
        "<br>\n",
        "Thus, LinearREgression performs terrible as seen above."
      ]
    },
    {
      "cell_type": "markdown",
      "metadata": {
        "id": "NxjssbD3_VMZ"
      },
      "source": [
        "**d) Using KNN**"
      ]
    },
    {
      "cell_type": "code",
      "metadata": {
        "colab": {
          "base_uri": "https://localhost:8080/"
        },
        "id": "RIbu3zk3_ZQ-",
        "outputId": "9d01d040-4ffb-4ab5-be8f-a47962c80e04"
      },
      "source": [
        "from sklearn.neighbors import KNeighborsRegressor\n",
        "knn = KNeighborsRegressor()\n",
        "knn.fit(X_train, y_train)\n",
        "\n",
        "knn_forecast= knn.predict(X_test)\n",
        "\n",
        "#let's evalueate knn\n",
        "knn.score(X_test, y_test)"
      ],
      "execution_count": 26,
      "outputs": [
        {
          "output_type": "execute_result",
          "data": {
            "text/plain": [
              "0.3424824485214748"
            ]
          },
          "metadata": {
            "tags": []
          },
          "execution_count": 26
        }
      ]
    },
    {
      "cell_type": "markdown",
      "metadata": {
        "id": "1YsuQLoBCaZt"
      },
      "source": [
        "**d)Using GradientBoosting**"
      ]
    },
    {
      "cell_type": "code",
      "metadata": {
        "colab": {
          "base_uri": "https://localhost:8080/"
        },
        "id": "XhOMZger7QIS",
        "outputId": "3f636cb5-7415-4789-a752-bcc74892d6f0"
      },
      "source": [
        "from sklearn.ensemble import GradientBoostingRegressor\n",
        "gbr = GradientBoostingRegressor()\n",
        "gbr.fit(X_train, y_train)\n",
        "\n",
        "gbr_forecast = gbr.predict(X_test)\n",
        "gbr.score(X_test, y_test)"
      ],
      "execution_count": 27,
      "outputs": [
        {
          "output_type": "execute_result",
          "data": {
            "text/plain": [
              "0.5490014721370398"
            ]
          },
          "metadata": {
            "tags": []
          },
          "execution_count": 27
        }
      ]
    },
    {
      "cell_type": "code",
      "metadata": {
        "colab": {
          "base_uri": "https://localhost:8080/"
        },
        "id": "51DLgeXCm72y",
        "outputId": "fa9a08de-b7a0-41b2-e120-86bd1bd523cb"
      },
      "source": [
        "y_test.shape"
      ],
      "execution_count": 28,
      "outputs": [
        {
          "output_type": "execute_result",
          "data": {
            "text/plain": [
              "(103,)"
            ]
          },
          "metadata": {
            "tags": []
          },
          "execution_count": 28
        }
      ]
    },
    {
      "cell_type": "code",
      "metadata": {
        "colab": {
          "base_uri": "https://localhost:8080/"
        },
        "id": "0U9SqJAvjZX2",
        "outputId": "1eb7dfad-6f34-4ed6-b598-52302aaaf531"
      },
      "source": [
        "from sklearn.metrics import mean_absolute_error\n",
        "#Evaluating GradientBoostingRegressor predictions\n",
        "mae = mean_absolute_error(gbr_forecast, y_test)\n",
        "rmse = np.sqrt(mae)\n",
        "print(\"Mean Absolute Error for RandomForest predictions:\" + str(mae))\n",
        "print(\"Root Mean Square Error for RandomForest predictions:\" + str(rmse))"
      ],
      "execution_count": 29,
      "outputs": [
        {
          "output_type": "stream",
          "text": [
            "Mean Absolute Error for RandomForest predictions:20.695598860278423\n",
            "Root Mean Square Error for RandomForest predictions:4.5492415697870365\n"
          ],
          "name": "stdout"
        }
      ]
    },
    {
      "cell_type": "markdown",
      "metadata": {
        "id": "SmC4iNmFD0Kp"
      },
      "source": [
        "**e) Let's use other estimators in sklearn**"
      ]
    },
    {
      "cell_type": "code",
      "metadata": {
        "colab": {
          "base_uri": "https://localhost:8080/"
        },
        "id": "jMc0NRpAD7qa",
        "outputId": "32bb9144-4a95-4d01-96dc-df1f1d2f5981"
      },
      "source": [
        "from sklearn.utils.testing import all_estimators\n",
        "from sklearn import base\n",
        "\n",
        "estimators = all_estimators()\n",
        "\n",
        "for name, class_ in estimators:\n",
        "    if issubclass(class_, base.RegressorMixin):\n",
        "        print(name+\"()\")"
      ],
      "execution_count": 30,
      "outputs": [
        {
          "output_type": "stream",
          "text": [
            "/usr/local/lib/python3.7/dist-packages/sklearn/utils/deprecation.py:144: FutureWarning:\n",
            "\n",
            "The sklearn.utils.testing module is  deprecated in version 0.22 and will be removed in version 0.24. The corresponding classes / functions should instead be imported from sklearn.utils. Anything that cannot be imported from sklearn.utils is now part of the private API.\n",
            "\n"
          ],
          "name": "stderr"
        },
        {
          "output_type": "stream",
          "text": [
            "ARDRegression()\n",
            "AdaBoostRegressor()\n",
            "BaggingRegressor()\n",
            "BayesianRidge()\n",
            "CCA()\n",
            "DecisionTreeRegressor()\n",
            "DummyRegressor()\n",
            "ElasticNet()\n",
            "ElasticNetCV()\n",
            "ExtraTreeRegressor()\n",
            "ExtraTreesRegressor()\n",
            "GaussianProcessRegressor()\n",
            "GradientBoostingRegressor()\n",
            "HistGradientBoostingRegressor()\n",
            "HuberRegressor()\n",
            "IsotonicRegression()\n",
            "KNeighborsRegressor()\n",
            "KernelRidge()\n",
            "Lars()\n",
            "LarsCV()\n",
            "Lasso()\n",
            "LassoCV()\n",
            "LassoLars()\n",
            "LassoLarsCV()\n",
            "LassoLarsIC()\n",
            "LinearRegression()\n",
            "LinearSVR()\n",
            "MLPRegressor()\n",
            "MultiOutputRegressor()\n",
            "MultiTaskElasticNet()\n",
            "MultiTaskElasticNetCV()\n",
            "MultiTaskLasso()\n",
            "MultiTaskLassoCV()\n",
            "NuSVR()\n",
            "OrthogonalMatchingPursuit()\n",
            "OrthogonalMatchingPursuitCV()\n",
            "PLSCanonical()\n",
            "PLSRegression()\n",
            "PassiveAggressiveRegressor()\n",
            "RANSACRegressor()\n",
            "RadiusNeighborsRegressor()\n",
            "RandomForestRegressor()\n",
            "RegressorChain()\n",
            "Ridge()\n",
            "RidgeCV()\n",
            "SGDRegressor()\n",
            "SVR()\n",
            "StackingRegressor()\n",
            "TheilSenRegressor()\n",
            "TransformedTargetRegressor()\n",
            "VotingRegressor()\n",
            "_SigmoidCalibration()\n"
          ],
          "name": "stdout"
        },
        {
          "output_type": "stream",
          "text": [
            "/usr/local/lib/python3.7/dist-packages/sklearn/externals/joblib/__init__.py:15: FutureWarning:\n",
            "\n",
            "sklearn.externals.joblib is deprecated in 0.21 and will be removed in 0.23. Please import this functionality directly from joblib, which can be installed with: pip install joblib. If this warning is raised when loading pickled models, you may need to re-serialize those models with scikit-learn 0.21+.\n",
            "\n"
          ],
          "name": "stderr"
        }
      ]
    },
    {
      "cell_type": "code",
      "metadata": {
        "colab": {
          "base_uri": "https://localhost:8080/",
          "height": 976
        },
        "id": "fZiEVP7_WbRb",
        "outputId": "b4786e5e-34c6-423f-8f52-b9dd65df36b3"
      },
      "source": [
        "n_r=0.6 \n",
        "r_s=42 \n",
        "np.random.seed(seed=r_s)\n",
        "\n",
        "from sklearn.metrics import mean_squared_error,mean_absolute_error\n",
        "from sklearn.ensemble import GradientBoostingRegressor,RandomForestRegressor,AdaBoostRegressor,ExtraTreesRegressor,HistGradientBoostingRegressor\n",
        "from sklearn.linear_model import Ridge,RidgeCV,BayesianRidge,LinearRegression,Lasso,LassoCV,ElasticNet,RANSACRegressor,HuberRegressor,PassiveAggressiveRegressor,ElasticNetCV\n",
        "from sklearn.neighbors import KNeighborsRegressor\n",
        "from sklearn.tree import DecisionTreeRegressor\n",
        "from sklearn.ensemble import VotingRegressor\n",
        "from sklearn.svm import SVR\n",
        "from sklearn.kernel_ridge import KernelRidge\n",
        "from sklearn.cross_decomposition import CCA\n",
        "from sklearn.neural_network import MLPRegressor\n",
        "\n",
        "\n",
        "\n",
        "my_regressors=[ \n",
        "               ElasticNet(alpha=0.001,l1_ratio=0.70,max_iter=100,tol=0.01, random_state=r_s),\n",
        "               ElasticNetCV(l1_ratio=0.9,max_iter=100,tol=0.01,random_state=r_s),\n",
        "               #GradientBoostingRegressor(n_estimators=3000, learning_rate=0.05, max_depth=4, max_features='sqrt', min_samples_leaf=15, min_samples_split=10, loss='huber',random_state =r_s),\n",
        "               #RandomForestRegressor(random_state=r_s),\n",
        "               AdaBoostRegressor(random_state=r_s),\n",
        "               #ExtraTreesRegressor(random_state=r_s),\n",
        "               #SVR(C= 20, epsilon= 0.008, gamma=0.0003),\n",
        "               Ridge(alpha=6),\n",
        "               RidgeCV(),\n",
        "               BayesianRidge(),\n",
        "               DecisionTreeRegressor(),\n",
        "               LinearRegression(),\n",
        "               KNeighborsRegressor(),\n",
        "               Lasso(alpha=0.00047,random_state=r_s),\n",
        "               LassoCV(),\n",
        "               #KernelRidge(),\n",
        "               CCA(),\n",
        "               MLPRegressor(random_state=r_s),\n",
        "               HistGradientBoostingRegressor(random_state=r_s),\n",
        "               HuberRegressor(),\n",
        "               RANSACRegressor(random_state=r_s),\n",
        "               PassiveAggressiveRegressor(random_state=r_s)\n",
        "               #XGBRegressor(random_state=r_s)\n",
        "              ]\n",
        "\n",
        "regressors=[]\n",
        "\n",
        "for my_regressor in my_regressors:\n",
        "    regressors.append(my_regressor)\n",
        "\n",
        "\n",
        "scores_val=[]\n",
        "scores_train=[]\n",
        "MAE=[]\n",
        "MSE=[]\n",
        "RMSE=[]\n",
        "\n",
        "\n",
        "for regressor in regressors:\n",
        "    scores_val.append(regressor.fit(X_train,y_train).score(X_test,y_test))\n",
        "    scores_train.append(regressor.fit(X_train,y_train).score(X_train,y_train))\n",
        "    y_pred=regressor.predict(X_test)\n",
        "    MAE.append(mean_absolute_error(y_test,y_pred))\n",
        "    MSE.append(mean_squared_error(y_test,y_pred))\n",
        "    RMSE.append(np.sqrt(mean_squared_error(y_test,y_pred)))\n",
        "\n",
        "    \n",
        "results=zip(scores_val,scores_train,MAE,MSE,RMSE)\n",
        "results=list(results)\n",
        "results_score_val=[item[0] for item in results]\n",
        "results_score_train=[item[1] for item in results]\n",
        "results_MAE=[item[2] for item in results]\n",
        "results_MSE=[item[3] for item in results]\n",
        "results_RMSE=[item[4] for item in results]\n",
        "\n",
        "\n",
        "df_results=pd.DataFrame({\"Algorithms\":my_regressors,\"Training Score\":results_score_train,\"Validation Score\":results_score_val,\"MAE\":results_MAE,\"MSE\":results_MSE,\"RMSE\":results_RMSE})\n",
        "df_results"
      ],
      "execution_count": 31,
      "outputs": [
        {
          "output_type": "stream",
          "text": [
            "/usr/local/lib/python3.7/dist-packages/sklearn/cross_decomposition/_pls.py:321: UserWarning:\n",
            "\n",
            "Y residual constant at iteration 1\n",
            "\n",
            "/usr/local/lib/python3.7/dist-packages/sklearn/cross_decomposition/_pls.py:321: UserWarning:\n",
            "\n",
            "Y residual constant at iteration 1\n",
            "\n",
            "/usr/local/lib/python3.7/dist-packages/sklearn/linear_model/_huber.py:296: ConvergenceWarning:\n",
            "\n",
            "lbfgs failed to converge (status=1):\n",
            "STOP: TOTAL NO. of ITERATIONS REACHED LIMIT.\n",
            "\n",
            "Increase the number of iterations (max_iter) or scale the data as shown in:\n",
            "    https://scikit-learn.org/stable/modules/preprocessing.html\n",
            "\n",
            "/usr/local/lib/python3.7/dist-packages/sklearn/linear_model/_huber.py:296: ConvergenceWarning:\n",
            "\n",
            "lbfgs failed to converge (status=1):\n",
            "STOP: TOTAL NO. of ITERATIONS REACHED LIMIT.\n",
            "\n",
            "Increase the number of iterations (max_iter) or scale the data as shown in:\n",
            "    https://scikit-learn.org/stable/modules/preprocessing.html\n",
            "\n"
          ],
          "name": "stderr"
        },
        {
          "output_type": "execute_result",
          "data": {
            "text/html": [
              "<div>\n",
              "<style scoped>\n",
              "    .dataframe tbody tr th:only-of-type {\n",
              "        vertical-align: middle;\n",
              "    }\n",
              "\n",
              "    .dataframe tbody tr th {\n",
              "        vertical-align: top;\n",
              "    }\n",
              "\n",
              "    .dataframe thead th {\n",
              "        text-align: right;\n",
              "    }\n",
              "</style>\n",
              "<table border=\"1\" class=\"dataframe\">\n",
              "  <thead>\n",
              "    <tr style=\"text-align: right;\">\n",
              "      <th></th>\n",
              "      <th>Algorithms</th>\n",
              "      <th>Training Score</th>\n",
              "      <th>Validation Score</th>\n",
              "      <th>MAE</th>\n",
              "      <th>MSE</th>\n",
              "      <th>RMSE</th>\n",
              "    </tr>\n",
              "  </thead>\n",
              "  <tbody>\n",
              "    <tr>\n",
              "      <th>0</th>\n",
              "      <td>ElasticNet(alpha=0.001, copy_X=True, fit_inter...</td>\n",
              "      <td>0.268729</td>\n",
              "      <td>0.043446</td>\n",
              "      <td>31.308823</td>\n",
              "      <td>1778.889443</td>\n",
              "      <td>42.176883</td>\n",
              "    </tr>\n",
              "    <tr>\n",
              "      <th>1</th>\n",
              "      <td>ElasticNetCV(alphas=None, copy_X=True, cv=None...</td>\n",
              "      <td>0.256666</td>\n",
              "      <td>0.074226</td>\n",
              "      <td>30.703544</td>\n",
              "      <td>1721.646994</td>\n",
              "      <td>41.492734</td>\n",
              "    </tr>\n",
              "    <tr>\n",
              "      <th>2</th>\n",
              "      <td>(DecisionTreeRegressor(ccp_alpha=0.0, criterio...</td>\n",
              "      <td>0.660056</td>\n",
              "      <td>0.473661</td>\n",
              "      <td>22.478027</td>\n",
              "      <td>978.824629</td>\n",
              "      <td>31.286173</td>\n",
              "    </tr>\n",
              "    <tr>\n",
              "      <th>3</th>\n",
              "      <td>Ridge(alpha=6, copy_X=True, fit_intercept=True...</td>\n",
              "      <td>0.268551</td>\n",
              "      <td>0.048206</td>\n",
              "      <td>31.247658</td>\n",
              "      <td>1770.036581</td>\n",
              "      <td>42.071803</td>\n",
              "    </tr>\n",
              "    <tr>\n",
              "      <th>4</th>\n",
              "      <td>RidgeCV(alphas=array([ 0.1,  1. , 10. ]), cv=N...</td>\n",
              "      <td>0.268360</td>\n",
              "      <td>0.050628</td>\n",
              "      <td>31.214389</td>\n",
              "      <td>1765.532055</td>\n",
              "      <td>42.018235</td>\n",
              "    </tr>\n",
              "    <tr>\n",
              "      <th>5</th>\n",
              "      <td>BayesianRidge(alpha_1=1e-06, alpha_2=1e-06, al...</td>\n",
              "      <td>0.259874</td>\n",
              "      <td>0.073597</td>\n",
              "      <td>30.814000</td>\n",
              "      <td>1722.816327</td>\n",
              "      <td>41.506823</td>\n",
              "    </tr>\n",
              "    <tr>\n",
              "      <th>6</th>\n",
              "      <td>DecisionTreeRegressor(ccp_alpha=0.0, criterion...</td>\n",
              "      <td>1.000000</td>\n",
              "      <td>0.274582</td>\n",
              "      <td>30.699029</td>\n",
              "      <td>1444.038835</td>\n",
              "      <td>38.000511</td>\n",
              "    </tr>\n",
              "    <tr>\n",
              "      <th>7</th>\n",
              "      <td>LinearRegression(copy_X=True, fit_intercept=Tr...</td>\n",
              "      <td>0.268729</td>\n",
              "      <td>0.043377</td>\n",
              "      <td>31.309578</td>\n",
              "      <td>1779.017034</td>\n",
              "      <td>42.178395</td>\n",
              "    </tr>\n",
              "    <tr>\n",
              "      <th>8</th>\n",
              "      <td>KNeighborsRegressor(algorithm='auto', leaf_siz...</td>\n",
              "      <td>0.598587</td>\n",
              "      <td>0.342482</td>\n",
              "      <td>26.807767</td>\n",
              "      <td>1222.775146</td>\n",
              "      <td>34.968202</td>\n",
              "    </tr>\n",
              "    <tr>\n",
              "      <th>9</th>\n",
              "      <td>Lasso(alpha=0.00047, copy_X=True, fit_intercep...</td>\n",
              "      <td>0.268729</td>\n",
              "      <td>0.043397</td>\n",
              "      <td>31.309310</td>\n",
              "      <td>1778.979782</td>\n",
              "      <td>42.177954</td>\n",
              "    </tr>\n",
              "    <tr>\n",
              "      <th>10</th>\n",
              "      <td>LassoCV(alphas=None, copy_X=True, cv=None, eps...</td>\n",
              "      <td>0.257661</td>\n",
              "      <td>0.072885</td>\n",
              "      <td>30.706645</td>\n",
              "      <td>1724.142161</td>\n",
              "      <td>41.522791</td>\n",
              "    </tr>\n",
              "    <tr>\n",
              "      <th>11</th>\n",
              "      <td>CCA(copy=True, max_iter=500, n_components=2, s...</td>\n",
              "      <td>0.243241</td>\n",
              "      <td>-0.053179</td>\n",
              "      <td>32.227307</td>\n",
              "      <td>1958.580585</td>\n",
              "      <td>44.255854</td>\n",
              "    </tr>\n",
              "    <tr>\n",
              "      <th>12</th>\n",
              "      <td>MLPRegressor(activation='relu', alpha=0.0001, ...</td>\n",
              "      <td>0.193474</td>\n",
              "      <td>0.084173</td>\n",
              "      <td>31.087858</td>\n",
              "      <td>1703.149751</td>\n",
              "      <td>41.269235</td>\n",
              "    </tr>\n",
              "    <tr>\n",
              "      <th>13</th>\n",
              "      <td>HistGradientBoostingRegressor(l2_regularizatio...</td>\n",
              "      <td>0.819007</td>\n",
              "      <td>0.537750</td>\n",
              "      <td>21.665353</td>\n",
              "      <td>859.638291</td>\n",
              "      <td>29.319589</td>\n",
              "    </tr>\n",
              "    <tr>\n",
              "      <th>14</th>\n",
              "      <td>HuberRegressor(alpha=0.0001, epsilon=1.35, fit...</td>\n",
              "      <td>0.261406</td>\n",
              "      <td>0.026913</td>\n",
              "      <td>31.176616</td>\n",
              "      <td>1809.634451</td>\n",
              "      <td>42.539798</td>\n",
              "    </tr>\n",
              "    <tr>\n",
              "      <th>15</th>\n",
              "      <td>RANSACRegressor(base_estimator=None, is_data_v...</td>\n",
              "      <td>-71.859544</td>\n",
              "      <td>-0.249116</td>\n",
              "      <td>37.317437</td>\n",
              "      <td>2322.961539</td>\n",
              "      <td>48.197111</td>\n",
              "    </tr>\n",
              "    <tr>\n",
              "      <th>16</th>\n",
              "      <td>PassiveAggressiveRegressor(C=1.0, average=Fals...</td>\n",
              "      <td>-3.406273</td>\n",
              "      <td>-2.966482</td>\n",
              "      <td>75.742825</td>\n",
              "      <td>7376.405425</td>\n",
              "      <td>85.886002</td>\n",
              "    </tr>\n",
              "  </tbody>\n",
              "</table>\n",
              "</div>"
            ],
            "text/plain": [
              "                                           Algorithms  ...       RMSE\n",
              "0   ElasticNet(alpha=0.001, copy_X=True, fit_inter...  ...  42.176883\n",
              "1   ElasticNetCV(alphas=None, copy_X=True, cv=None...  ...  41.492734\n",
              "2   (DecisionTreeRegressor(ccp_alpha=0.0, criterio...  ...  31.286173\n",
              "3   Ridge(alpha=6, copy_X=True, fit_intercept=True...  ...  42.071803\n",
              "4   RidgeCV(alphas=array([ 0.1,  1. , 10. ]), cv=N...  ...  42.018235\n",
              "5   BayesianRidge(alpha_1=1e-06, alpha_2=1e-06, al...  ...  41.506823\n",
              "6   DecisionTreeRegressor(ccp_alpha=0.0, criterion...  ...  38.000511\n",
              "7   LinearRegression(copy_X=True, fit_intercept=Tr...  ...  42.178395\n",
              "8   KNeighborsRegressor(algorithm='auto', leaf_siz...  ...  34.968202\n",
              "9   Lasso(alpha=0.00047, copy_X=True, fit_intercep...  ...  42.177954\n",
              "10  LassoCV(alphas=None, copy_X=True, cv=None, eps...  ...  41.522791\n",
              "11  CCA(copy=True, max_iter=500, n_components=2, s...  ...  44.255854\n",
              "12  MLPRegressor(activation='relu', alpha=0.0001, ...  ...  41.269235\n",
              "13  HistGradientBoostingRegressor(l2_regularizatio...  ...  29.319589\n",
              "14  HuberRegressor(alpha=0.0001, epsilon=1.35, fit...  ...  42.539798\n",
              "15  RANSACRegressor(base_estimator=None, is_data_v...  ...  48.197111\n",
              "16  PassiveAggressiveRegressor(C=1.0, average=Fals...  ...  85.886002\n",
              "\n",
              "[17 rows x 6 columns]"
            ]
          },
          "metadata": {
            "tags": []
          },
          "execution_count": 31
        }
      ]
    },
    {
      "cell_type": "markdown",
      "metadata": {
        "id": "-4Fy_GmMYEp6"
      },
      "source": [
        "Observe that just a few estimators scored above average. <br>\n",
        "Top three estimators are  \n",
        "<br>**RandomForest: Validation_Score= 0.552749604295966, RMSE=28.18891305846105** \n",
        "<br>**GradientBoostingRegressor: Validation_Score= 0.5479264, RMSE = 28.83998252830625**\n",
        "<br>**HistGradientBoostingRegressor:  Validation_Score= 0.537750, RMSE= 29.319589**\n"
      ]
    },
    {
      "cell_type": "markdown",
      "metadata": {
        "id": "EhHV07I6pMsY"
      },
      "source": [
        "##Applying GridSearchCV for Hyperparameter Tuning"
      ]
    },
    {
      "cell_type": "code",
      "metadata": {
        "id": "HQyJpJLl7NSX"
      },
      "source": [
        "from sklearn.model_selection import GridSearchCV\n",
        "# Create the parameter grid based on the results of random search \n",
        "param_grid_rf = {\n",
        "    'bootstrap': [True],\n",
        "    #'max_depth': [80, 90, 100, 110],\n",
        "   # 'max_features': 'auto',\n",
        "    'min_samples_leaf': [1, 3, 4, 5],\n",
        "    'min_samples_split': [1,2,3,4,5],\n",
        "    'n_estimators': [50, 100, 200, 300]\n",
        "    }\n",
        "param_grid_gb = {'alpha':[0.7, 0.8,0.9,1],\n",
        "                 'learning_rate':[0.05, 0.1, 0.15],\n",
        "                 'n_estimators': [50, 100,150,200],\n",
        "                 'min_samples_split':[1,2,3,4],\n",
        "                 'min_samples_leaf':[1,2,3],\n",
        "                 'tol':[0.00001, 0.0001, 0.001],\n",
        "                 'max_depth':[2,3,4,5],\n",
        "                 'validation_fraction':[0.05,0.1,0.15]\n",
        "                 }\n",
        "# Create a based model\n",
        "rf = RandomForestRegressor()\n",
        "gb = GradientBoostingRegressor()\n",
        "# Instantiate the grid search model\n",
        "grid_search_rf = GridSearchCV(estimator = rf, param_grid = param_grid_rf, \n",
        "                          cv = 5, n_jobs = -1, verbose = 2)\n",
        "grid_search_gb = GridSearchCV(estimator=gb, param_grid= param_grid_gb, cv=5, n_jobs=-1, verbose=2)\n"
      ],
      "execution_count": 32,
      "outputs": []
    },
    {
      "cell_type": "code",
      "metadata": {
        "colab": {
          "base_uri": "https://localhost:8080/"
        },
        "id": "5Z2mT00U7lgj",
        "outputId": "62325e44-18d9-47c3-b50b-c987531dc89b"
      },
      "source": [
        "grid_search_rf.fit(X_train, y_train)\n",
        "grid_search_gb.fit(X_train, y_train)"
      ],
      "execution_count": 33,
      "outputs": [
        {
          "output_type": "stream",
          "text": [
            "Fitting 5 folds for each of 80 candidates, totalling 400 fits\n"
          ],
          "name": "stdout"
        },
        {
          "output_type": "stream",
          "text": [
            "[Parallel(n_jobs=-1)]: Using backend LokyBackend with 2 concurrent workers.\n",
            "[Parallel(n_jobs=-1)]: Done  37 tasks      | elapsed:    6.5s\n",
            "[Parallel(n_jobs=-1)]: Done 158 tasks      | elapsed:   29.3s\n",
            "[Parallel(n_jobs=-1)]: Done 361 tasks      | elapsed:  1.1min\n",
            "[Parallel(n_jobs=-1)]: Done 400 out of 400 | elapsed:  1.2min finished\n",
            "[Parallel(n_jobs=-1)]: Using backend LokyBackend with 2 concurrent workers.\n"
          ],
          "name": "stderr"
        },
        {
          "output_type": "stream",
          "text": [
            "Fitting 5 folds for each of 20736 candidates, totalling 103680 fits\n"
          ],
          "name": "stdout"
        },
        {
          "output_type": "stream",
          "text": [
            "[Parallel(n_jobs=-1)]: Done 486 tasks      | elapsed:   11.6s\n",
            "[Parallel(n_jobs=-1)]: Done 1224 tasks      | elapsed:   33.2s\n",
            "[Parallel(n_jobs=-1)]: Done 2628 tasks      | elapsed:  1.3min\n",
            "[Parallel(n_jobs=-1)]: Done 4240 tasks      | elapsed:  2.2min\n",
            "[Parallel(n_jobs=-1)]: Done 6508 tasks      | elapsed:  3.5min\n",
            "[Parallel(n_jobs=-1)]: Done 8398 tasks      | elapsed:  4.8min\n",
            "[Parallel(n_jobs=-1)]: Done 11280 tasks      | elapsed:  6.3min\n",
            "[Parallel(n_jobs=-1)]: Done 14410 tasks      | elapsed:  8.1min\n",
            "[Parallel(n_jobs=-1)]: Done 17736 tasks      | elapsed: 10.2min\n",
            "[Parallel(n_jobs=-1)]: Done 22142 tasks      | elapsed: 12.6min\n",
            "[Parallel(n_jobs=-1)]: Done 25810 tasks      | elapsed: 14.9min\n",
            "[Parallel(n_jobs=-1)]: Done 31610 tasks      | elapsed: 18.1min\n",
            "[Parallel(n_jobs=-1)]: Done 37396 tasks      | elapsed: 21.5min\n",
            "[Parallel(n_jobs=-1)]: Done 43320 tasks      | elapsed: 25.1min\n",
            "[Parallel(n_jobs=-1)]: Done 49491 tasks      | elapsed: 28.5min\n",
            "[Parallel(n_jobs=-1)]: Done 55972 tasks      | elapsed: 32.2min\n",
            "[Parallel(n_jobs=-1)]: Done 63149 tasks      | elapsed: 36.3min\n",
            "[Parallel(n_jobs=-1)]: Done 71056 tasks      | elapsed: 41.0min\n",
            "[Parallel(n_jobs=-1)]: Done 85146 tasks      | elapsed: 45.4min\n",
            "[Parallel(n_jobs=-1)]: Done 103680 out of 103680 | elapsed: 46.1min finished\n"
          ],
          "name": "stderr"
        },
        {
          "output_type": "execute_result",
          "data": {
            "text/plain": [
              "GridSearchCV(cv=5, error_score=nan,\n",
              "             estimator=GradientBoostingRegressor(alpha=0.9, ccp_alpha=0.0,\n",
              "                                                 criterion='friedman_mse',\n",
              "                                                 init=None, learning_rate=0.1,\n",
              "                                                 loss='ls', max_depth=3,\n",
              "                                                 max_features=None,\n",
              "                                                 max_leaf_nodes=None,\n",
              "                                                 min_impurity_decrease=0.0,\n",
              "                                                 min_impurity_split=None,\n",
              "                                                 min_samples_leaf=1,\n",
              "                                                 min_samples_split=2,\n",
              "                                                 min_weight_fraction_leaf=0.0,\n",
              "                                                 n_estimators=100,\n",
              "                                                 n_iter_n...\n",
              "             iid='deprecated', n_jobs=-1,\n",
              "             param_grid={'alpha': [0.7, 0.8, 0.9, 1],\n",
              "                         'learning_rate': [0.05, 0.1, 0.15],\n",
              "                         'max_depth': [2, 3, 4, 5],\n",
              "                         'min_samples_leaf': [1, 2, 3],\n",
              "                         'min_samples_split': [1, 2, 3, 4],\n",
              "                         'n_estimators': [50, 100, 150, 200],\n",
              "                         'tol': [1e-05, 0.0001, 0.001],\n",
              "                         'validation_fraction': [0.05, 0.1, 0.15]},\n",
              "             pre_dispatch='2*n_jobs', refit=True, return_train_score=False,\n",
              "             scoring=None, verbose=2)"
            ]
          },
          "metadata": {
            "tags": []
          },
          "execution_count": 33
        }
      ]
    },
    {
      "cell_type": "code",
      "metadata": {
        "id": "riYz4YUqCckf",
        "colab": {
          "base_uri": "https://localhost:8080/"
        },
        "outputId": "7ebaded4-3e5d-4941-cfde-7a3db2103bfc"
      },
      "source": [
        "print(grid_search_rf.best_params_)\n",
        "print(grid_search_rf.best_score_)\n",
        "\n",
        "print(grid_search_gb.best_params_)\n",
        "print(grid_search_gb.best_score_)"
      ],
      "execution_count": 34,
      "outputs": [
        {
          "output_type": "stream",
          "text": [
            "{'bootstrap': True, 'min_samples_leaf': 4, 'min_samples_split': 4, 'n_estimators': 50}\n",
            "0.5180506613176356\n",
            "{'alpha': 0.7, 'learning_rate': 0.1, 'max_depth': 2, 'min_samples_leaf': 1, 'min_samples_split': 2, 'n_estimators': 150, 'tol': 0.0001, 'validation_fraction': 0.05}\n",
            "0.5549640257108767\n"
          ],
          "name": "stdout"
        }
      ]
    },
    {
      "cell_type": "markdown",
      "metadata": {
        "id": "RmqdIHj8PZsG"
      },
      "source": [
        "##**Re-fit data to best estimators**\n",
        "We observe that gridsearchcv makes no significant difference with our model accuracy score.\n",
        "\n",
        "Thus, we go ahead with RandomForest bare model cos its has the optimal score."
      ]
    },
    {
      "cell_type": "code",
      "metadata": {
        "colab": {
          "base_uri": "https://localhost:8080/"
        },
        "id": "LtSEL3jiBGBg",
        "outputId": "ad2d36cb-c45f-4f79-d502-b5233e877b6a"
      },
      "source": [
        "#re-fit into RandomForest estimator\n",
        "rf = RandomForestRegressor()\n",
        "\n",
        "rf.fit(X_train, y_train)\n",
        "rf.score(X_test, y_test)"
      ],
      "execution_count": 35,
      "outputs": [
        {
          "output_type": "execute_result",
          "data": {
            "text/plain": [
              "0.5559826134226538"
            ]
          },
          "metadata": {
            "tags": []
          },
          "execution_count": 35
        }
      ]
    },
    {
      "cell_type": "code",
      "metadata": {
        "colab": {
          "base_uri": "https://localhost:8080/"
        },
        "id": "90lMm7v3BHl-",
        "outputId": "9ab67603-cc16-4229-89a3-c847d813cc0f"
      },
      "source": [
        "#make predictions and find mae, and rmse\n",
        "\n",
        "rf_predict = rf.predict(X_test)\n",
        "mae = mean_absolute_error(y_test, rf_predict)\n",
        "mse = mean_squared_error(y_test, rf_predict)\n",
        "rmse = np.sqrt(mse)\n",
        "print(mse)\n",
        "print(rmse)"
      ],
      "execution_count": 36,
      "outputs": [
        {
          "output_type": "stream",
          "text": [
            "825.7322155339807\n",
            "28.735556642145994\n"
          ],
          "name": "stdout"
        }
      ]
    },
    {
      "cell_type": "markdown",
      "metadata": {
        "id": "vKl1l4UG0777"
      },
      "source": [
        "We immediately observe from the score, mae and rmse above for Ramdomforest estimator is better than all other ML estimators triesd ealier.<br>\n",
        "\n",
        "**Let's return the dataset to it's original form and plot**"
      ]
    },
    {
      "cell_type": "code",
      "metadata": {
        "colab": {
          "base_uri": "https://localhost:8080/",
          "height": 366
        },
        "id": "apaQD5goOyqh",
        "outputId": "b959c8c2-8e45-49de-e91d-f06bd96d5edb"
      },
      "source": [
        "import seaborn as sns\n",
        "import matplotlib.pyplot as plt\n",
        "sns.regplot(y_test, rf_forecast)\n",
        "plt.show()"
      ],
      "execution_count": 41,
      "outputs": [
        {
          "output_type": "stream",
          "text": [
            "/usr/local/lib/python3.7/dist-packages/seaborn/_decorators.py:43: FutureWarning:\n",
            "\n",
            "Pass the following variables as keyword args: x, y. From version 0.12, the only valid positional argument will be `data`, and passing other arguments without an explicit keyword will result in an error or misinterpretation.\n",
            "\n"
          ],
          "name": "stderr"
        },
        {
          "output_type": "display_data",
          "data": {
            "image/png": "[encoded data removed]",
            "text/plain": [
              "<Figure size 432x288 with 1 Axes>"
            ]
          },
          "metadata": {
            "tags": [],
            "needs_background": "light"
          }
        }
      ]
    },
    {
      "cell_type": "code",
      "metadata": {
        "colab": {
          "base_uri": "https://localhost:8080/",
          "height": 203
        },
        "id": "K5oIxSpQBWXz",
        "outputId": "0b327774-242e-47d0-d58e-514c447dce93"
      },
      "source": [
        "regen_df = pd.concat([X_test, y_test], axis=1).assign(Predicted = rf_predict).sort_values(by=['year', 'month', 'week', 'dayofweek'])\n",
        "regen_df.head()"
      ],
      "execution_count": 42,
      "outputs": [
        {
          "output_type": "execute_result",
          "data": {
            "text/html": [
              "<div>\n",
              "<style scoped>\n",
              "    .dataframe tbody tr th:only-of-type {\n",
              "        vertical-align: middle;\n",
              "    }\n",
              "\n",
              "    .dataframe tbody tr th {\n",
              "        vertical-align: top;\n",
              "    }\n",
              "\n",
              "    .dataframe thead th {\n",
              "        text-align: right;\n",
              "    }\n",
              "</style>\n",
              "<table border=\"1\" class=\"dataframe\">\n",
              "  <thead>\n",
              "    <tr style=\"text-align: right;\">\n",
              "      <th></th>\n",
              "      <th>borough_BRONX</th>\n",
              "      <th>borough_BROOKLYN</th>\n",
              "      <th>borough_MANHATTAN</th>\n",
              "      <th>borough_QUEENS</th>\n",
              "      <th>borough_STATEN ISLAND</th>\n",
              "      <th>year</th>\n",
              "      <th>month</th>\n",
              "      <th>week</th>\n",
              "      <th>day</th>\n",
              "      <th>dayofweek</th>\n",
              "      <th>y</th>\n",
              "      <th>Predicted</th>\n",
              "    </tr>\n",
              "  </thead>\n",
              "  <tbody>\n",
              "    <tr>\n",
              "      <th>229</th>\n",
              "      <td>0</td>\n",
              "      <td>0</td>\n",
              "      <td>1</td>\n",
              "      <td>0</td>\n",
              "      <td>0</td>\n",
              "      <td>2020</td>\n",
              "      <td>5</td>\n",
              "      <td>20</td>\n",
              "      <td>15</td>\n",
              "      <td>4</td>\n",
              "      <td>220</td>\n",
              "      <td>191.15</td>\n",
              "    </tr>\n",
              "    <tr>\n",
              "      <th>114</th>\n",
              "      <td>0</td>\n",
              "      <td>1</td>\n",
              "      <td>0</td>\n",
              "      <td>0</td>\n",
              "      <td>0</td>\n",
              "      <td>2020</td>\n",
              "      <td>5</td>\n",
              "      <td>20</td>\n",
              "      <td>17</td>\n",
              "      <td>6</td>\n",
              "      <td>159</td>\n",
              "      <td>199.70</td>\n",
              "    </tr>\n",
              "    <tr>\n",
              "      <th>19</th>\n",
              "      <td>0</td>\n",
              "      <td>0</td>\n",
              "      <td>0</td>\n",
              "      <td>1</td>\n",
              "      <td>0</td>\n",
              "      <td>2020</td>\n",
              "      <td>5</td>\n",
              "      <td>21</td>\n",
              "      <td>20</td>\n",
              "      <td>2</td>\n",
              "      <td>181</td>\n",
              "      <td>207.31</td>\n",
              "    </tr>\n",
              "    <tr>\n",
              "      <th>124</th>\n",
              "      <td>0</td>\n",
              "      <td>1</td>\n",
              "      <td>0</td>\n",
              "      <td>0</td>\n",
              "      <td>0</td>\n",
              "      <td>2020</td>\n",
              "      <td>5</td>\n",
              "      <td>21</td>\n",
              "      <td>21</td>\n",
              "      <td>3</td>\n",
              "      <td>195</td>\n",
              "      <td>207.84</td>\n",
              "    </tr>\n",
              "    <tr>\n",
              "      <th>299</th>\n",
              "      <td>0</td>\n",
              "      <td>0</td>\n",
              "      <td>0</td>\n",
              "      <td>1</td>\n",
              "      <td>0</td>\n",
              "      <td>2020</td>\n",
              "      <td>5</td>\n",
              "      <td>21</td>\n",
              "      <td>24</td>\n",
              "      <td>6</td>\n",
              "      <td>183</td>\n",
              "      <td>202.52</td>\n",
              "    </tr>\n",
              "  </tbody>\n",
              "</table>\n",
              "</div>"
            ],
            "text/plain": [
              "     borough_BRONX  borough_BROOKLYN  ...    y  Predicted\n",
              "229              0                 0  ...  220     191.15\n",
              "114              0                 1  ...  159     199.70\n",
              "19               0                 0  ...  181     207.31\n",
              "124              0                 1  ...  195     207.84\n",
              "299              0                 0  ...  183     202.52\n",
              "\n",
              "[5 rows x 12 columns]"
            ]
          },
          "metadata": {
            "tags": []
          },
          "execution_count": 42
        }
      ]
    },
    {
      "cell_type": "code",
      "metadata": {
        "id": "VfAU72RoCf-h"
      },
      "source": [
        "cols=[\"year\",\"month\",\"day\"]\n",
        "regen_df['date'] = regen_df[cols].apply(lambda x: '-'.join(x.values.astype(str)), axis=\"columns\")\n",
        "regen_df['date'] =pd.to_datetime(regen_df['date'])"
      ],
      "execution_count": 43,
      "outputs": []
    },
    {
      "cell_type": "code",
      "metadata": {
        "colab": {
          "base_uri": "https://localhost:8080/",
          "height": 292
        },
        "id": "nsQPERCcwZaY",
        "outputId": "65fb3f96-8177-4dd9-db6c-17713f743bf4"
      },
      "source": [
        "#plot the resorted datesets from RandomForest predictions and plot\n",
        "plt.scatter(regen_df['date'], regen_df['y'], color='red')\n",
        "plt.plot(regen_df['date'], regen_df['y'], color='red')\n",
        "plt.xticks(rotation=45)\n",
        "plt.show()"
      ],
      "execution_count": 46,
      "outputs": [
        {
          "output_type": "display_data",
          "data": {
            "image/png": "[encoded data removed]",
            "text/plain": [
              "<Figure size 432x288 with 1 Axes>"
            ]
          },
          "metadata": {
            "tags": [],
            "needs_background": "light"
          }
        }
      ]
    },
    {
      "cell_type": "code",
      "metadata": {
        "colab": {
          "base_uri": "https://localhost:8080/",
          "height": 265
        },
        "id": "II6_9UePyWeH",
        "outputId": "129ce0af-a132-444e-f654-4d8a9c9e2b64"
      },
      "source": [
        "#plot original dataset scatter plot. \n",
        "#we observe RandomForest model does a better job than all other models when compared to its original data. \n",
        "plt.scatter(df1['ds'], df1['y'], color='red')\n",
        "plt.show()"
      ],
      "execution_count": null,
      "outputs": [
        {
          "output_type": "display_data",
          "data": {
            "image/png": "[encoded data removed]",
            "text/plain": [
              "<Figure size 432x288 with 1 Axes>"
            ]
          },
          "metadata": {
            "tags": [],
            "needs_background": "light"
          }
        }
      ]
    },
    {
      "cell_type": "markdown",
      "metadata": {
        "id": "m3T_7Uzf3zmj"
      },
      "source": [
        "##**Conclusion**\n",
        "\n",
        "In this regressor problem, we have attempted to predict the number of accidents in NewYork City:\n",
        "* After trying multiple machine learning models and using a cross validation technique, we have chosen the best performed model: RandomForestRegressor\n",
        "*Our metrics for choosing our model was Mean absolute error, root mean squared error and the training and validation score.\n"
      ]
    },
    {
      "cell_type": "code",
      "metadata": {
        "id": "aj1JPsy5BH26"
      },
      "source": [
        ""
      ],
      "execution_count": null,
      "outputs": []
    },
    {
      "cell_type": "code",
      "metadata": {
        "id": "am4QfQVN1tp8"
      },
      "source": [
        ""
      ],
      "execution_count": null,
      "outputs": []
    }
  ]
}